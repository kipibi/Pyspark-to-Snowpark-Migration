{
 "cells": [
  {
   "cell_type": "markdown",
   "id": "d5656656",
   "metadata": {
    "id": "d5656656"
   },
   "source": [
    "#### This notebook is part 2 of the quickstart. In part1, we have written pyspark code to perform analysis on uber dataset. In this notebook, we will utilize same dataset and perform same analysis using snowpark python."
   ]
  },
  {
   "cell_type": "code",
   "execution_count": 1,
   "id": "bf9ce121",
   "metadata": {
    "id": "bf9ce121"
   },
   "outputs": [],
   "source": [
    "#import required libraries\n",
    "from snowflake.snowpark import Session\n",
    "\n",
    "from snowflake.snowpark.functions import *\n",
    "from snowflake.snowpark.types import *\n",
    "from snowflake.snowpark import functions as F\n",
    "from snowflake.snowpark import Window\n",
    "import pandas as pd\n",
    "import numpy as np"
   ]
  },
  {
   "cell_type": "markdown",
   "id": "c0023ff5",
   "metadata": {
    "id": "c0023ff5"
   },
   "source": [
    "- create a snowflake trail account if you do not have one.\n",
    "- create a database named \"snowpark\" and schema named \"dev\"\n",
    "- Upload uber dataset to your stage. We will read data from this stage and make some transformations"
   ]
  },
  {
   "cell_type": "markdown",
   "id": "e2a0671a",
   "metadata": {
    "id": "e2a0671a"
   },
   "source": [
    "### Connect to Snowflake and load data"
   ]
  },
  {
   "cell_type": "markdown",
   "id": "34daa612",
   "metadata": {},
   "source": [
    "For the snowflake connection we need to set the parameters in the config file. Add in your account details like :user,password, account,database,schema,role and warehouse.\n",
    "You can set the below values:\n",
    "- \"database\":\"snowpark\"\n",
    "- \"schema\": \"dev\",\n",
    "- \"role\": \"ACCOUNTADMIN\",\n",
    "- \"warehouse\": \"COMPUTE_WH\""
   ]
  },
  {
   "cell_type": "code",
   "execution_count": 2,
   "id": "19169dd4",
   "metadata": {
    "id": "19169dd4",
    "outputId": "d3d72301-a157-40b7-8f11-ac206faf8908"
   },
   "outputs": [
    {
     "name": "stdout",
     "output_type": "stream",
     "text": [
      "[Row(CURRENT_WAREHOUSE()='COMPUTE_WH', CURRENT_DATABASE()='SNOWPARK', CURRENT_SCHEMA()='DEV', CURRENT_ROLE()='ACCOUNTADMIN')]\n"
     ]
    }
   ],
   "source": [
    "#Snowflake connection info is saved in config.py\n",
    "from config import SNOWFLAKE_CONN_PROFILE\n",
    "session = Session.builder.configs(SNOWFLAKE_CONN_PROFILE).create()\n",
    "session.sql(\"use role Accountadmin\").collect()\n",
    "session.sql(\"create database if not exists  {}\".format(SNOWFLAKE_CONN_PROFILE['database'])).collect()\n",
    "session.sql(\"use database {}\".format(SNOWFLAKE_CONN_PROFILE['database'])).collect()\n",
    "session.sql(\"create schema if not exists  {}\".format(SNOWFLAKE_CONN_PROFILE['schema'])).collect()\n",
    "session.sql(\"use schema {}\".format(SNOWFLAKE_CONN_PROFILE['schema'])).collect()\n",
    "session.sql(\"use warehouse {}\".format(SNOWFLAKE_CONN_PROFILE['warehouse']))\n",
    "print(session.sql('select current_warehouse(), current_database(), current_schema(), current_role()').collect())"
   ]
  },
  {
   "cell_type": "markdown",
   "id": "9464a3f6",
   "metadata": {},
   "source": [
    "In the following step, we are retrieving the Uber data from the 'Uber' table that was created during the data migration process and loading it into a dataframe."
   ]
  },
  {
   "cell_type": "code",
   "execution_count": 3,
   "id": "30c014f3",
   "metadata": {},
   "outputs": [
    {
     "data": {
      "text/plain": [
       "StructType([StructField('DATE', StringType(), nullable=True), StructField('\"Time (Local)\"', LongType(), nullable=True), StructField('EYEBALLS', LongType(), nullable=True), StructField('ZEROES', LongType(), nullable=True), StructField('\"Completed Trips\"', LongType(), nullable=True), StructField('REQUESTS', LongType(), nullable=True), StructField('\"Unique Drivers\"', LongType(), nullable=True)])"
      ]
     },
     "execution_count": 3,
     "metadata": {},
     "output_type": "execute_result"
    }
   ],
   "source": [
    "df = session.sql('select * from uber')\n",
    "df.schema"
   ]
  },
  {
   "cell_type": "code",
   "execution_count": 4,
   "id": "b4e13601",
   "metadata": {},
   "outputs": [
    {
     "name": "stdout",
     "output_type": "stream",
     "text": [
      "----------------------------------------------------------------------------------------------------------\n",
      "|\"DATE\"     |\"Time (Local)\"  |\"EYEBALLS\"  |\"ZEROES\"  |\"Completed Trips\"  |\"REQUESTS\"  |\"Unique Drivers\"  |\n",
      "----------------------------------------------------------------------------------------------------------\n",
      "|10-Sep-12  |7               |5           |0         |2                  |2           |9                 |\n",
      "|10-Sep-12  |8               |6           |0         |2                  |2           |14                |\n",
      "|10-Sep-12  |9               |8           |3         |0                  |0           |14                |\n",
      "|10-Sep-12  |10              |9           |2         |0                  |1           |14                |\n",
      "|10-Sep-12  |11              |11          |1         |4                  |4           |11                |\n",
      "|10-Sep-12  |12              |12          |0         |2                  |2           |11                |\n",
      "|10-Sep-12  |13              |9           |1         |0                  |0           |9                 |\n",
      "|10-Sep-12  |14              |12          |1         |0                  |0           |9                 |\n",
      "|10-Sep-12  |15              |11          |2         |1                  |2           |7                 |\n",
      "|10-Sep-12  |16              |11          |2         |3                  |4           |6                 |\n",
      "----------------------------------------------------------------------------------------------------------\n",
      "\n"
     ]
    }
   ],
   "source": [
    "df.show()"
   ]
  },
  {
   "cell_type": "markdown",
   "id": "99c1ed51",
   "metadata": {},
   "source": [
    "We can use Pandas on top of snowpark for example, we can convert the 'Date' column to datetime format. The function 'data_cleaning' creates an additional column called 'DATE_TIME'. Since the 'Date' column is initially a string type, it is necessary to convert it to datetime format for further analysis. The 'DATE_TIME' column is created by combining the 'Date' and 'Time' columns. The data_cleaning function takes an argument,dataframe that contains the uber data."
   ]
  },
  {
   "cell_type": "code",
   "execution_count": 5,
   "id": "ed922e54",
   "metadata": {},
   "outputs": [],
   "source": [
    "def data_cleaning(dataframe):\n",
    "    df1=dataframe.with_column_renamed(col(\"Time (Local)\"), \"Time\")\n",
    "    df2=df1.with_column_renamed(col(\"Completed Trips\"), \"Completed_Trips\")\n",
    "    df3=df2.with_column_renamed(col(\"Unique Drivers\"), \"Unique_Drivers\")\n",
    "    # df3.show()\n",
    "    uber_pd = df3.toPandas()\n",
    "    uber_pd['DATE_TIME'] = uber_pd['DATE'].astype('str')+' '+uber_pd['TIME'].astype('str')\n",
    "    uber_pd['DATE_TIME']=pd.to_datetime(uber_pd['DATE_TIME'], format='%d-%b-%y %H')\n",
    "    uber_pd['DATE']=pd.to_datetime(uber_pd['DATE'], format='%d-%b-%y')\n",
    "    #uber_df.head()\n",
    "     \n",
    "    return uber_pd\n"
   ]
  },
  {
   "cell_type": "code",
   "execution_count": 6,
   "id": "31a8ec59",
   "metadata": {},
   "outputs": [
    {
     "data": {
      "text/html": [
       "<div>\n",
       "<style scoped>\n",
       "    .dataframe tbody tr th:only-of-type {\n",
       "        vertical-align: middle;\n",
       "    }\n",
       "\n",
       "    .dataframe tbody tr th {\n",
       "        vertical-align: top;\n",
       "    }\n",
       "\n",
       "    .dataframe thead th {\n",
       "        text-align: right;\n",
       "    }\n",
       "</style>\n",
       "<table border=\"1\" class=\"dataframe\">\n",
       "  <thead>\n",
       "    <tr style=\"text-align: right;\">\n",
       "      <th></th>\n",
       "      <th>DATE</th>\n",
       "      <th>TIME</th>\n",
       "      <th>EYEBALLS</th>\n",
       "      <th>ZEROES</th>\n",
       "      <th>COMPLETED_TRIPS</th>\n",
       "      <th>REQUESTS</th>\n",
       "      <th>UNIQUE_DRIVERS</th>\n",
       "      <th>DATE_TIME</th>\n",
       "    </tr>\n",
       "  </thead>\n",
       "  <tbody>\n",
       "    <tr>\n",
       "      <th>0</th>\n",
       "      <td>2012-09-10</td>\n",
       "      <td>7</td>\n",
       "      <td>5</td>\n",
       "      <td>0</td>\n",
       "      <td>2</td>\n",
       "      <td>2</td>\n",
       "      <td>9</td>\n",
       "      <td>2012-09-10 07:00:00</td>\n",
       "    </tr>\n",
       "    <tr>\n",
       "      <th>1</th>\n",
       "      <td>2012-09-10</td>\n",
       "      <td>8</td>\n",
       "      <td>6</td>\n",
       "      <td>0</td>\n",
       "      <td>2</td>\n",
       "      <td>2</td>\n",
       "      <td>14</td>\n",
       "      <td>2012-09-10 08:00:00</td>\n",
       "    </tr>\n",
       "    <tr>\n",
       "      <th>2</th>\n",
       "      <td>2012-09-10</td>\n",
       "      <td>9</td>\n",
       "      <td>8</td>\n",
       "      <td>3</td>\n",
       "      <td>0</td>\n",
       "      <td>0</td>\n",
       "      <td>14</td>\n",
       "      <td>2012-09-10 09:00:00</td>\n",
       "    </tr>\n",
       "    <tr>\n",
       "      <th>3</th>\n",
       "      <td>2012-09-10</td>\n",
       "      <td>10</td>\n",
       "      <td>9</td>\n",
       "      <td>2</td>\n",
       "      <td>0</td>\n",
       "      <td>1</td>\n",
       "      <td>14</td>\n",
       "      <td>2012-09-10 10:00:00</td>\n",
       "    </tr>\n",
       "    <tr>\n",
       "      <th>4</th>\n",
       "      <td>2012-09-10</td>\n",
       "      <td>11</td>\n",
       "      <td>11</td>\n",
       "      <td>1</td>\n",
       "      <td>4</td>\n",
       "      <td>4</td>\n",
       "      <td>11</td>\n",
       "      <td>2012-09-10 11:00:00</td>\n",
       "    </tr>\n",
       "    <tr>\n",
       "      <th>...</th>\n",
       "      <td>...</td>\n",
       "      <td>...</td>\n",
       "      <td>...</td>\n",
       "      <td>...</td>\n",
       "      <td>...</td>\n",
       "      <td>...</td>\n",
       "      <td>...</td>\n",
       "      <td>...</td>\n",
       "    </tr>\n",
       "    <tr>\n",
       "      <th>331</th>\n",
       "      <td>2012-09-24</td>\n",
       "      <td>2</td>\n",
       "      <td>3</td>\n",
       "      <td>3</td>\n",
       "      <td>0</td>\n",
       "      <td>2</td>\n",
       "      <td>0</td>\n",
       "      <td>2012-09-24 02:00:00</td>\n",
       "    </tr>\n",
       "    <tr>\n",
       "      <th>332</th>\n",
       "      <td>2012-09-24</td>\n",
       "      <td>3</td>\n",
       "      <td>3</td>\n",
       "      <td>3</td>\n",
       "      <td>0</td>\n",
       "      <td>1</td>\n",
       "      <td>0</td>\n",
       "      <td>2012-09-24 03:00:00</td>\n",
       "    </tr>\n",
       "    <tr>\n",
       "      <th>333</th>\n",
       "      <td>2012-09-24</td>\n",
       "      <td>4</td>\n",
       "      <td>1</td>\n",
       "      <td>1</td>\n",
       "      <td>0</td>\n",
       "      <td>0</td>\n",
       "      <td>0</td>\n",
       "      <td>2012-09-24 04:00:00</td>\n",
       "    </tr>\n",
       "    <tr>\n",
       "      <th>334</th>\n",
       "      <td>2012-09-24</td>\n",
       "      <td>5</td>\n",
       "      <td>4</td>\n",
       "      <td>2</td>\n",
       "      <td>1</td>\n",
       "      <td>1</td>\n",
       "      <td>3</td>\n",
       "      <td>2012-09-24 05:00:00</td>\n",
       "    </tr>\n",
       "    <tr>\n",
       "      <th>335</th>\n",
       "      <td>2012-09-24</td>\n",
       "      <td>6</td>\n",
       "      <td>9</td>\n",
       "      <td>1</td>\n",
       "      <td>2</td>\n",
       "      <td>2</td>\n",
       "      <td>7</td>\n",
       "      <td>2012-09-24 06:00:00</td>\n",
       "    </tr>\n",
       "  </tbody>\n",
       "</table>\n",
       "<p>336 rows × 8 columns</p>\n",
       "</div>"
      ],
      "text/plain": [
       "          DATE  TIME  EYEBALLS  ZEROES  COMPLETED_TRIPS  REQUESTS  \\\n",
       "0   2012-09-10     7         5       0                2         2   \n",
       "1   2012-09-10     8         6       0                2         2   \n",
       "2   2012-09-10     9         8       3                0         0   \n",
       "3   2012-09-10    10         9       2                0         1   \n",
       "4   2012-09-10    11        11       1                4         4   \n",
       "..         ...   ...       ...     ...              ...       ...   \n",
       "331 2012-09-24     2         3       3                0         2   \n",
       "332 2012-09-24     3         3       3                0         1   \n",
       "333 2012-09-24     4         1       1                0         0   \n",
       "334 2012-09-24     5         4       2                1         1   \n",
       "335 2012-09-24     6         9       1                2         2   \n",
       "\n",
       "     UNIQUE_DRIVERS           DATE_TIME  \n",
       "0                 9 2012-09-10 07:00:00  \n",
       "1                14 2012-09-10 08:00:00  \n",
       "2                14 2012-09-10 09:00:00  \n",
       "3                14 2012-09-10 10:00:00  \n",
       "4                11 2012-09-10 11:00:00  \n",
       "..              ...                 ...  \n",
       "331               0 2012-09-24 02:00:00  \n",
       "332               0 2012-09-24 03:00:00  \n",
       "333               0 2012-09-24 04:00:00  \n",
       "334               3 2012-09-24 05:00:00  \n",
       "335               7 2012-09-24 06:00:00  \n",
       "\n",
       "[336 rows x 8 columns]"
      ]
     },
     "execution_count": 6,
     "metadata": {},
     "output_type": "execute_result"
    }
   ],
   "source": [
    "uber=data_cleaning(df)\n",
    "uber"
   ]
  },
  {
   "cell_type": "code",
   "execution_count": 7,
   "id": "c324dd89",
   "metadata": {
    "id": "c324dd89"
   },
   "outputs": [
    {
     "data": {
      "text/plain": [
       "DATE               datetime64[ns]\n",
       "TIME                         int8\n",
       "EYEBALLS                     int8\n",
       "ZEROES                       int8\n",
       "COMPLETED_TRIPS              int8\n",
       "REQUESTS                     int8\n",
       "UNIQUE_DRIVERS               int8\n",
       "DATE_TIME          datetime64[ns]\n",
       "dtype: object"
      ]
     },
     "execution_count": 7,
     "metadata": {},
     "output_type": "execute_result"
    }
   ],
   "source": [
    "uber.dtypes"
   ]
  },
  {
   "cell_type": "code",
   "execution_count": 8,
   "id": "23c78e03",
   "metadata": {
    "id": "23c78e03"
   },
   "outputs": [
    {
     "data": {
      "text/plain": [
       "pandas.core.frame.DataFrame"
      ]
     },
     "execution_count": 8,
     "metadata": {},
     "output_type": "execute_result"
    }
   ],
   "source": [
    "type(uber)"
   ]
  },
  {
   "cell_type": "code",
   "execution_count": 9,
   "id": "f022e4fd",
   "metadata": {},
   "outputs": [],
   "source": [
    "uber['DATE']=uber['DATE'].dt.tz_localize('UTC')\n",
    "uber['DATE_TIME']=uber['DATE_TIME'].dt.tz_localize('UTC')"
   ]
  },
  {
   "cell_type": "code",
   "execution_count": 10,
   "id": "aa2e4643",
   "metadata": {},
   "outputs": [
    {
     "name": "stdout",
     "output_type": "stream",
     "text": [
      "----------------------------------------------------------------------------------------------------------------------------------\n",
      "|\"DATE\"               |\"TIME\"  |\"EYEBALLS\"  |\"ZEROES\"  |\"COMPLETED_TRIPS\"  |\"REQUESTS\"  |\"UNIQUE_DRIVERS\"  |\"DATE_TIME\"          |\n",
      "----------------------------------------------------------------------------------------------------------------------------------\n",
      "|2012-09-10 00:00:00  |7       |5           |0         |2                  |2           |9                 |2012-09-10 07:00:00  |\n",
      "|2012-09-10 00:00:00  |8       |6           |0         |2                  |2           |14                |2012-09-10 08:00:00  |\n",
      "|2012-09-10 00:00:00  |9       |8           |3         |0                  |0           |14                |2012-09-10 09:00:00  |\n",
      "|2012-09-10 00:00:00  |10      |9           |2         |0                  |1           |14                |2012-09-10 10:00:00  |\n",
      "|2012-09-10 00:00:00  |11      |11          |1         |4                  |4           |11                |2012-09-10 11:00:00  |\n",
      "|2012-09-10 00:00:00  |12      |12          |0         |2                  |2           |11                |2012-09-10 12:00:00  |\n",
      "|2012-09-10 00:00:00  |13      |9           |1         |0                  |0           |9                 |2012-09-10 13:00:00  |\n",
      "|2012-09-10 00:00:00  |14      |12          |1         |0                  |0           |9                 |2012-09-10 14:00:00  |\n",
      "|2012-09-10 00:00:00  |15      |11          |2         |1                  |2           |7                 |2012-09-10 15:00:00  |\n",
      "|2012-09-10 00:00:00  |16      |11          |2         |3                  |4           |6                 |2012-09-10 16:00:00  |\n",
      "----------------------------------------------------------------------------------------------------------------------------------\n",
      "\n"
     ]
    }
   ],
   "source": [
    "uber_df=session.create_dataframe(uber)\n",
    "uber_df.show()"
   ]
  },
  {
   "cell_type": "code",
   "execution_count": 11,
   "id": "ba01eff9",
   "metadata": {},
   "outputs": [
    {
     "name": "stdout",
     "output_type": "stream",
     "text": [
      "-------------------------------------------------------------------------------------------------------------------------\n",
      "|\"DATE\"      |\"TIME\"  |\"EYEBALLS\"  |\"ZEROES\"  |\"COMPLETED_TRIPS\"  |\"REQUESTS\"  |\"UNIQUE_DRIVERS\"  |\"DATE_TIME\"          |\n",
      "-------------------------------------------------------------------------------------------------------------------------\n",
      "|2012-09-10  |7       |5           |0         |2                  |2           |9                 |2012-09-10 07:00:00  |\n",
      "|2012-09-10  |8       |6           |0         |2                  |2           |14                |2012-09-10 08:00:00  |\n",
      "|2012-09-10  |9       |8           |3         |0                  |0           |14                |2012-09-10 09:00:00  |\n",
      "|2012-09-10  |10      |9           |2         |0                  |1           |14                |2012-09-10 10:00:00  |\n",
      "|2012-09-10  |11      |11          |1         |4                  |4           |11                |2012-09-10 11:00:00  |\n",
      "|2012-09-10  |12      |12          |0         |2                  |2           |11                |2012-09-10 12:00:00  |\n",
      "|2012-09-10  |13      |9           |1         |0                  |0           |9                 |2012-09-10 13:00:00  |\n",
      "|2012-09-10  |14      |12          |1         |0                  |0           |9                 |2012-09-10 14:00:00  |\n",
      "|2012-09-10  |15      |11          |2         |1                  |2           |7                 |2012-09-10 15:00:00  |\n",
      "|2012-09-10  |16      |11          |2         |3                  |4           |6                 |2012-09-10 16:00:00  |\n",
      "-------------------------------------------------------------------------------------------------------------------------\n",
      "\n"
     ]
    }
   ],
   "source": [
    "uber_df1=uber_df.select(to_date(col('DATE')).alias('DATE'),\"TIME\",\"EYEBALLS\",\"ZEROES\",\"COMPLETED_TRIPS\",\"REQUESTS\",\"UNIQUE_DRIVERS\",\"DATE_TIME\")\n",
    "uber_df1.show()"
   ]
  },
  {
   "cell_type": "markdown",
   "id": "9713626d",
   "metadata": {
    "id": "9713626d"
   },
   "source": [
    "### 1. Which date had the most completed trips during the two-week period?"
   ]
  },
  {
   "cell_type": "code",
   "execution_count": 12,
   "id": "563e3473",
   "metadata": {
    "id": "563e3473"
   },
   "outputs": [],
   "source": [
    "def max_trips_date(dataframe):\n",
    "    trips_per_date = dataframe.groupBy('DATE').agg(sum('COMPLETED_TRIPS').alias('total_completed_trips')).sort(\"total_completed_trips\", ascending=False)\n",
    "    trips_per_date=trips_per_date.select('Date').limit(1)\n",
    "    return trips_per_date"
   ]
  },
  {
   "cell_type": "code",
   "execution_count": 13,
   "id": "07b590c4",
   "metadata": {
    "id": "07b590c4",
    "outputId": "4d94c4f2-345f-4555-d9b8-4e86074912fc"
   },
   "outputs": [
    {
     "name": "stdout",
     "output_type": "stream",
     "text": [
      "--------------\n",
      "|\"DATE\"      |\n",
      "--------------\n",
      "|2012-09-22  |\n",
      "--------------\n",
      "\n"
     ]
    }
   ],
   "source": [
    "max_trips=max_trips_date(uber_df1)\n",
    "max_trips.show()"
   ]
  },
  {
   "cell_type": "markdown",
   "id": "e9f8a8bb",
   "metadata": {
    "id": "e9f8a8bb"
   },
   "source": [
    "### 2. What was the highest number of completed trips within a 24-hour period?"
   ]
  },
  {
   "cell_type": "code",
   "execution_count": 14,
   "id": "e227b5a8",
   "metadata": {
    "id": "e227b5a8"
   },
   "outputs": [],
   "source": [
    "def highest_completed_trips(dataframe):\n",
    "    # Group the data by 24-hour window and sum the completed trips\n",
    "    completed_trips_24hrs = dataframe.groupBy(F.date_trunc('day', 'DATE_TIME'),floor(hour('DATE_TIME')/24)) \\\n",
    "                                   .agg(F.sum(\"completed_Trips\").alias(\"Total_Completed_Trips\"))\n",
    "\n",
    "    # Get the highest number of completed trips within a 24-hour period\n",
    "    highest_completed_trips_in_24_hours =completed_trips_24hrs.select(max('Total_Completed_Trips').alias('Total_Completed_Trips_in_24hrs')).first()[0]\n",
    "    return highest_completed_trips_in_24_hours"
   ]
  },
  {
   "cell_type": "code",
   "execution_count": 15,
   "id": "52695ec3",
   "metadata": {
    "id": "52695ec3",
    "outputId": "0ccab160-56aa-4ec8-e17c-f85b1c3bb08d"
   },
   "outputs": [
    {
     "data": {
      "text/plain": [
       "248"
      ]
     },
     "execution_count": 15,
     "metadata": {},
     "output_type": "execute_result"
    }
   ],
   "source": [
    "highest_trips = highest_completed_trips(uber_df1)\n",
    "highest_trips"
   ]
  },
  {
   "cell_type": "markdown",
   "id": "fbc49c50",
   "metadata": {
    "id": "fbc49c50"
   },
   "source": [
    "### 3. Which hour of the day had the most requests during the two-week period?"
   ]
  },
  {
   "cell_type": "code",
   "execution_count": 16,
   "id": "360a3d9f",
   "metadata": {
    "id": "360a3d9f",
    "scrolled": true
   },
   "outputs": [],
   "source": [
    "def most_requests_per_hour(dataframe):\n",
    "    df_hour = dataframe.groupBy(\"TIME\").agg(sum('REQUESTS').alias('Total_Requests')).sort(\"Total_Requests\", ascending=False)\n",
    "    most_req_hr = df_hour.select('TIME').first()[0]\n",
    "    return most_req_hr"
   ]
  },
  {
   "cell_type": "code",
   "execution_count": 17,
   "id": "77a0da7f",
   "metadata": {
    "id": "77a0da7f",
    "outputId": "e6796240-e327-4f0c-96e8-cb3193ba6281"
   },
   "outputs": [
    {
     "data": {
      "text/plain": [
       "23"
      ]
     },
     "execution_count": 17,
     "metadata": {},
     "output_type": "execute_result"
    }
   ],
   "source": [
    "most_requests = most_requests_per_hour(uber_df1)\n",
    "most_requests"
   ]
  },
  {
   "cell_type": "markdown",
   "id": "0f4a8c55",
   "metadata": {
    "id": "0f4a8c55"
   },
   "source": [
    "### 4. What percentages of all zeroes during the two-week period occurred on weekend (Saturday and Sunday)"
   ]
  },
  {
   "cell_type": "markdown",
   "id": "9f53b4fe",
   "metadata": {
    "id": "9f53b4fe"
   },
   "source": [
    "#### In snowpark, satuarday day of week is 6 and Sunday day of week is 0"
   ]
  },
  {
   "cell_type": "code",
   "execution_count": 18,
   "id": "28a0e054",
   "metadata": {
    "id": "28a0e054"
   },
   "outputs": [],
   "source": [
    "def percentage_zeroes(dataframe):\n",
    "    # count number of zeros that occurred on weekends\n",
    "    weekend_df = dataframe.withColumn(\"is_weekend\", when(dayofweek(col(\"DATE_TIME\")).isin([0,6]), 1).otherwise(0))\n",
    "    weekend_zeroes = weekend_df.filter(col(\"is_weekend\") == 1).agg(sum('ZEROES').alias('WEEKEND_ZEROES')).select('WEEKEND_ZEROES').first()[\"WEEKEND_ZEROES\"]\n",
    "\n",
    "    # total number of zeros\n",
    "    total_zeroes = dataframe.agg(sum(\"ZEROES\").alias('TOTAL_ZEROES')).collect()[0]['TOTAL_ZEROES']\n",
    "    per_zero=(weekend_zeroes/total_zeroes)*100\n",
    "    return per_zero\n"
   ]
  },
  {
   "cell_type": "code",
   "execution_count": 19,
   "id": "7cd25471",
   "metadata": {
    "id": "7cd25471",
    "outputId": "12450740-c0fd-4600-a334-1b0cce17f6a4"
   },
   "outputs": [
    {
     "name": "stdout",
     "output_type": "stream",
     "text": [
      "47.93561931420574\n"
     ]
    }
   ],
   "source": [
    "per_zeroes = percentage_zeroes(uber_df1)\n",
    "print(per_zeroes)"
   ]
  },
  {
   "cell_type": "markdown",
   "id": "6c25a263",
   "metadata": {
    "id": "6c25a263"
   },
   "source": [
    "### 5. What is the weighted average ratio of completed trips per driver during the two-week period? Tip: “Weighted average” means your answer should account for the total trip volume in each hour to determine the most accurate number in the whole period."
   ]
  },
  {
   "cell_type": "code",
   "execution_count": 20,
   "id": "657d7b39",
   "metadata": {
    "id": "657d7b39"
   },
   "outputs": [],
   "source": [
    "from snowflake.snowpark.functions import floor\n",
    "def weighted_avg_ratio(dataframe):\n",
    "    weighted_avg_ratio = dataframe.withColumn(\"trips_per_driver\", when(dataframe[\"Unique_Drivers\"]==0, 1).otherwise(dataframe[\"Completed_Trips\"] / dataframe[\"Unique_Drivers\"])) \\\n",
    "                 .groupBy(\"DATE\", \"Time\") \\\n",
    "                 .agg(avg(\"trips_per_driver\").alias(\"avg_completed_per_driver\"), sum(\"Completed_trips\").alias(\"total_completed_trips\")) \\\n",
    "                 .withColumn(\"weighted_ratio\", col(\"avg_completed_per_driver\") * col(\"total_completed_trips\")) \\\n",
    "                 .agg(sum(\"weighted_ratio\") / sum(\"total_completed_trips\"))\n",
    "    war=weighted_avg_ratio.with_column_renamed(col(\"DIVIDE(SUM(WEIGHTED_RATIO), SUM(TOTAL_COMPLETED_TRIPS))\"), \"Weighted_average\")\\\n",
    "                          .select(trunc(col(\"Weighted_average\"), lit(3)).alias('Weighted_average'))\n",
    "    return war\n"
   ]
  },
  {
   "cell_type": "code",
   "execution_count": 21,
   "id": "d2b8559a",
   "metadata": {
    "id": "d2b8559a",
    "outputId": "a0d59702-d4f2-4c00-98ac-547b81c3b405"
   },
   "outputs": [
    {
     "name": "stdout",
     "output_type": "stream",
     "text": [
      "----------------------\n",
      "|\"WEIGHTED_AVERAGE\"  |\n",
      "----------------------\n",
      "|0.828               |\n",
      "----------------------\n",
      "\n"
     ]
    }
   ],
   "source": [
    "weighted_avg = weighted_avg_ratio(uber_df1)\n",
    "weighted_avg.show()"
   ]
  },
  {
   "cell_type": "markdown",
   "id": "5e566681",
   "metadata": {
    "id": "5e566681"
   },
   "source": [
    "### 6. In drafting a driver schedule in terms of 8 hours shifts, when are the busiest 8 consecutive hours over the two-week period in terms of unique requests? A new shift starts every 8 hours. Assume that a driver will work the same shift each day."
   ]
  },
  {
   "cell_type": "code",
   "execution_count": 22,
   "id": "79e27307",
   "metadata": {
    "id": "79e27307",
    "outputId": "8d311374-8f0e-4ec5-b4d8-0c3597567262"
   },
   "outputs": [
    {
     "name": "stdout",
     "output_type": "stream",
     "text": [
      "-----------------------------\n",
      "|\"TIME\"  |\"TOTAL_REQUESTS\"  |\n",
      "-----------------------------\n",
      "|7       |5                 |\n",
      "|8       |6                 |\n",
      "|9       |6                 |\n",
      "|10      |4                 |\n",
      "|11      |8                 |\n",
      "|12      |8                 |\n",
      "|13      |8                 |\n",
      "|15      |8                 |\n",
      "|17      |10                |\n",
      "|18      |9                 |\n",
      "-----------------------------\n",
      "\n"
     ]
    }
   ],
   "source": [
    "uber_df.groupBy('Time').agg(countDistinct('Requests').alias('Total_Requests')).show()"
   ]
  },
  {
   "cell_type": "code",
   "execution_count": 23,
   "id": "9866c3eb",
   "metadata": {
    "id": "9866c3eb",
    "scrolled": true
   },
   "outputs": [],
   "source": [
    "def busiest_hours(dataframe):\n",
    "    requests_per_hour = dataframe.groupBy('Time').agg(countDistinct('Requests').alias('Total_Requests'))\n",
    "    window_8hr = Window.orderBy(col('Total_Requests').desc()).rowsBetween(0,7)\n",
    "\n",
    "    busiest_8_hrs = requests_per_hour.select('*', sum('Total_Requests').over(window_8hr).alias(\"sum_8_hrs\"))\\\n",
    "                                 .orderBy(col(\"sum_8_hrs\").desc()).limit(1)\n",
    "    return busiest_8_hrs"
   ]
  },
  {
   "cell_type": "code",
   "execution_count": 24,
   "id": "061c52bd",
   "metadata": {
    "id": "061c52bd",
    "outputId": "83577632-789f-43db-81cc-c45e259d1545"
   },
   "outputs": [
    {
     "name": "stdout",
     "output_type": "stream",
     "text": [
      "-------------------------------------------\n",
      "|\"TIME\"  |\"TOTAL_REQUESTS\"  |\"SUM_8_HRS\"  |\n",
      "-------------------------------------------\n",
      "|20      |12                |80           |\n",
      "-------------------------------------------\n",
      "\n"
     ]
    }
   ],
   "source": [
    "busiest_8_hours = busiest_hours(uber_df1)\n",
    "busiest_8_hours.show()"
   ]
  },
  {
   "cell_type": "markdown",
   "id": "8afde34f",
   "metadata": {
    "id": "8afde34f"
   },
   "source": [
    "### 7. In which 72-hour period is the ratio of Zeroes to Eyeballs the highest?"
   ]
  },
  {
   "cell_type": "code",
   "execution_count": 25,
   "id": "c4af2c69",
   "metadata": {
    "id": "c4af2c69"
   },
   "outputs": [],
   "source": [
    "def zeroes_to_eyeballs_ratio(dataframe):\n",
    "    # Group the data by 72-hour periods and calculate the ratio of zeroes to eyeballs for each period\n",
    "    period_ratios = (dataframe.groupBy((hour(col(\"DATE_TIME\")) / (72*3600)).cast(\"int\"))\\\n",
    "                            .agg(sum(\"Zeroes\").alias(\"zeroes\"), sum(\"Eyeballs\").alias(\"eyeballs\"))\\\n",
    "                            .withColumn(\"ratio\", col(\"zeroes\") / col(\"eyeballs\")))\n",
    "\n",
    "    # Find the period with the highest ratio\n",
    "    highest_ratio_period = period_ratios.orderBy(col(\"ratio\").desc()).limit(1)\n",
    "    hrp=highest_ratio_period.with_column_renamed(col(\"CAST(DIVIDE(HOUR(DATE_TIME), LITERAL()))\"), \"PERIOD\")\n",
    "    return hrp"
   ]
  },
  {
   "cell_type": "code",
   "execution_count": 26,
   "id": "a062118b",
   "metadata": {
    "id": "a062118b",
    "outputId": "b12f2660-6f4e-4e12-f533-156b3348f13d"
   },
   "outputs": [
    {
     "name": "stdout",
     "output_type": "stream",
     "text": [
      "-----------------------------------------------\n",
      "|\"PERIOD\"  |\"ZEROES\"  |\"EYEBALLS\"  |\"RATIO\"   |\n",
      "-----------------------------------------------\n",
      "|0         |1429      |6687        |0.213698  |\n",
      "-----------------------------------------------\n",
      "\n"
     ]
    }
   ],
   "source": [
    "zeroes_to_eyeballs = zeroes_to_eyeballs_ratio(uber_df1)\n",
    "zeroes_to_eyeballs.show()"
   ]
  },
  {
   "cell_type": "markdown",
   "id": "e69687c5",
   "metadata": {
    "id": "e69687c5"
   },
   "source": [
    "### 8. If you could add 5 drivers to any single hour of every day during the two-week period, which hour should you add them to? Hint: Consider both rider eyeballs and driver supply when choosing"
   ]
  },
  {
   "cell_type": "code",
   "execution_count": 27,
   "id": "472165ef",
   "metadata": {
    "id": "472165ef"
   },
   "outputs": [],
   "source": [
    "def requests_per_driver(dataframe):\n",
    "    requests_per_driver = (dataframe.groupBy('Time')\\\n",
    "                         .agg((sum('Requests') / countDistinct('Unique_Drivers')).alias('requests_per_driver')))\n",
    "\n",
    "    requests_per_driver= requests_per_driver.sort('requests_per_driver', ascending=False).limit(1)\n",
    "    return requests_per_driver"
   ]
  },
  {
   "cell_type": "code",
   "execution_count": 28,
   "id": "3a509d15",
   "metadata": {
    "id": "3a509d15",
    "outputId": "e6971bc6-8f8e-4395-dee5-edfad92a9d01"
   },
   "outputs": [
    {
     "name": "stdout",
     "output_type": "stream",
     "text": [
      "----------------------------------\n",
      "|\"TIME\"  |\"REQUESTS_PER_DRIVER\"  |\n",
      "----------------------------------\n",
      "|2       |20.000000              |\n",
      "----------------------------------\n",
      "\n"
     ]
    }
   ],
   "source": [
    "requests_driver = requests_per_driver(uber_df1)\n",
    "requests_driver.show()"
   ]
  },
  {
   "cell_type": "markdown",
   "id": "d7d1ccb5",
   "metadata": {
    "id": "d7d1ccb5"
   },
   "source": [
    "### 9. Looking at the data from all two weeks, which time might make the most sense to consider a true “end day” instead of midnight? (i.e when are supply and demand at both their natural minimums)"
   ]
  },
  {
   "cell_type": "code",
   "execution_count": 29,
   "id": "0de402e9",
   "metadata": {
    "id": "0de402e9"
   },
   "outputs": [],
   "source": [
    "def true_end_day(dataframe):\n",
    "    true_end_day = dataframe.groupBy('Time')\\\n",
    "       .agg(avg('Completed_Trips').alias('avg_requests'), avg('Unique_Drivers').alias('avg_unique_drivers'))\\\n",
    "       .orderBy('avg_requests', 'avg_unique_drivers').limit(1)\n",
    "    return true_end_day\n"
   ]
  },
  {
   "cell_type": "code",
   "execution_count": 30,
   "id": "e1536a77",
   "metadata": {
    "id": "e1536a77",
    "outputId": "8c72a8eb-3888-4cc2-b64c-25f3df2cc24b"
   },
   "outputs": [
    {
     "name": "stdout",
     "output_type": "stream",
     "text": [
      "--------------------------------------------------\n",
      "|\"TIME\"  |\"AVG_REQUESTS\"  |\"AVG_UNIQUE_DRIVERS\"  |\n",
      "--------------------------------------------------\n",
      "|4       |0.142857        |0.642857              |\n",
      "--------------------------------------------------\n",
      "\n"
     ]
    }
   ],
   "source": [
    "true_endday = true_end_day(uber_df1)\n",
    "true_endday.show()"
   ]
  }
 ],
 "metadata": {
  "colab": {
   "provenance": []
  },
  "kernelspec": {
   "display_name": "pysnowpark_ml1",
   "language": "python",
   "name": "pysnowpark_ml1"
  },
  "language_info": {
   "codemirror_mode": {
    "name": "ipython",
    "version": 3
   },
   "file_extension": ".py",
   "mimetype": "text/x-python",
   "name": "python",
   "nbconvert_exporter": "python",
   "pygments_lexer": "ipython3",
   "version": "3.8.15"
  }
 },
 "nbformat": 4,
 "nbformat_minor": 5
}
