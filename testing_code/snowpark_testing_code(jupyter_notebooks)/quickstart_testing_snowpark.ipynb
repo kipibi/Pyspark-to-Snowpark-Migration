{
 "cells": [
  {
   "cell_type": "markdown",
   "metadata": {
    "application/vnd.databricks.v1+cell": {
     "cellMetadata": {},
     "inputWidgets": {},
     "nuid": "7c2dc4a3-87a9-4c11-8d8d-89e9e594f0b0",
     "showTitle": false,
     "title": ""
    }
   },
   "source": [
    "In this Notebook we will be doing the functional equivalence testing with the test data that contains the first 3 days data from the uber dataset"
   ]
  },
  {
   "cell_type": "code",
   "execution_count": 33,
   "metadata": {},
   "outputs": [],
   "source": [
    "import import_ipynb\n",
    "#import required libraries\n",
    "from snowflake.snowpark import Session\n",
    "from snowflake.snowpark.functions import *\n",
    "from snowflake.snowpark.types import *\n",
    "from snowflake.snowpark import functions as F\n",
    "from snowflake.snowpark import Window\n",
    "import pandas as pd\n",
    "import numpy as np"
   ]
  },
  {
   "cell_type": "markdown",
   "metadata": {
    "application/vnd.databricks.v1+cell": {
     "cellMetadata": {},
     "inputWidgets": {},
     "nuid": "81363e0c-751c-4bbc-be45-a7a2a33a7e0a",
     "showTitle": false,
     "title": ""
    }
   },
   "source": [
    "Running the snowpark notebook that contains all the functions for the usecases\n",
    "- NOTE: Change the path of the data file accordingly\n",
    "\n"
   ]
  },
  {
   "cell_type": "code",
   "execution_count": 34,
   "metadata": {},
   "outputs": [],
   "source": [
    "from quickstart_snowpark_v7 import *"
   ]
  },
  {
   "cell_type": "markdown",
   "metadata": {
    "application/vnd.databricks.v1+cell": {
     "cellMetadata": {},
     "inputWidgets": {},
     "nuid": "fee1cf5e-8e95-4e22-82d3-93de4c4dea13",
     "showTitle": false,
     "title": ""
    }
   },
   "source": [
    "Function to compre the actual and expected dataframe:\n",
    "- compares the Number of row count\n",
    "- compares the Schema\n",
    "- Row by Row comparison"
   ]
  },
  {
   "cell_type": "code",
   "execution_count": 35,
   "metadata": {},
   "outputs": [],
   "source": [
    "def compare_row_count(actual_df, expected_df):\n",
    "#     Check if the number of rows match\n",
    "    if actual_df.count() != expected_df.count():\n",
    "        print(\"Number of rows do not match: actual={}, expected={}\".format(\n",
    "            actual_df.count(), expected_df.count()))\n",
    "        return False\n",
    "    return True"
   ]
  },
  {
   "cell_type": "code",
   "execution_count": 36,
   "metadata": {},
   "outputs": [],
   "source": [
    "def compare_schema(actual_df, expected_df):\n",
    " # Check if the column names and types match\n",
    "    if actual_df.schema != expected_df.schema:\n",
    "        print(\"Schema does not match: actual={}, expected={}\".format(\n",
    "            actual_df.schema, expected_df.schema))\n",
    "        return False\n",
    "    return True"
   ]
  },
  {
   "cell_type": "code",
   "execution_count": 37,
   "metadata": {
    "application/vnd.databricks.v1+cell": {
     "cellMetadata": {},
     "inputWidgets": {},
     "nuid": "ad81a36d-b98b-4977-9417-6fa323be7bf5",
     "showTitle": false,
     "title": ""
    }
   },
   "outputs": [],
   "source": [
    "def compare_dataframes(actual_df, expected_df):\n",
    "  \n",
    "    if isinstance(expected_df, int):\n",
    "        if actual_df == expected_df:\n",
    "            return True\n",
    "        else:\n",
    "            #print(\"Rows of the data frames do not match\")\n",
    "            return False\n",
    "    else:\n",
    "        # Comparing the two DataFrames row by row\n",
    "        actual_df_collect = actual_df.collect()\n",
    "        expected_df_collect = expected_df.collect()\n",
    "\n",
    "        if actual_df_collect == expected_df_collect:\n",
    "\n",
    "            return True\n",
    "        else:\n",
    "            #print(\"Rows of the data frames do not match\")\n",
    "            return False"
   ]
  },
  {
   "cell_type": "markdown",
   "metadata": {
    "application/vnd.databricks.v1+cell": {
     "cellMetadata": {},
     "inputWidgets": {},
     "nuid": "8e032e1f-8a53-45ec-8f81-51bced680561",
     "showTitle": false,
     "title": ""
    }
   },
   "source": [
    "The below code does the following :\n",
    "- The test data is migrated from databricks to test_data table in snowflake.\n",
    "- Next the test data is read into the dataframe from the table for the further testing.\n",
    "- Function Data cleaning is present in the snowpark file that does the preliminary data cleaning such as data type changes and column renaming."
   ]
  },
  {
   "cell_type": "code",
   "execution_count": 38,
   "metadata": {},
   "outputs": [
    {
     "name": "stdout",
     "output_type": "stream",
     "text": [
      "[Row(CURRENT_WAREHOUSE()='COMPUTE_WH', CURRENT_DATABASE()='SNOWPARK', CURRENT_SCHEMA()='DEV')]\n"
     ]
    }
   ],
   "source": [
    "#Snowflake connection info is saved in config.py\n",
    "from config import SNOWFLAKE_CONN_PROFILE\n",
    "session = Session.builder.configs(SNOWFLAKE_CONN_PROFILE).create()\n",
    "session.sql(\"use role Accountadmin\").collect()\n",
    "session.sql(\"create database if not exists  {}\".format(SNOWFLAKE_CONN_PROFILE['database'])).collect()\n",
    "session.sql(\"use database {}\".format(SNOWFLAKE_CONN_PROFILE['database'])).collect()\n",
    "session.sql(\"use schema {}\".format(SNOWFLAKE_CONN_PROFILE['schema'])).collect()\n",
    "session.sql(\"use warehouse {}\".format(SNOWFLAKE_CONN_PROFILE['warehouse']))\n",
    "print(session.sql('select current_warehouse(), current_database(), current_schema()').collect())"
   ]
  },
  {
   "cell_type": "markdown",
   "metadata": {},
   "source": [
    "We have migrated the testing_data.csv from databricks to test_data table in snowflake, \n",
    "we will read the data from test_data table into the dataframe "
   ]
  },
  {
   "cell_type": "code",
   "execution_count": 39,
   "metadata": {},
   "outputs": [
    {
     "data": {
      "text/plain": [
       "StructType([StructField('DATE', StringType(), nullable=True), StructField('\"Time (Local)\"', LongType(), nullable=True), StructField('EYEBALLS', LongType(), nullable=True), StructField('ZEROES', LongType(), nullable=True), StructField('\"Completed Trips\"', LongType(), nullable=True), StructField('REQUESTS', LongType(), nullable=True), StructField('\"Unique Drivers\"', LongType(), nullable=True)])"
      ]
     },
     "execution_count": 39,
     "metadata": {},
     "output_type": "execute_result"
    }
   ],
   "source": [
    "test_df = session.sql('select * from test_data')\n",
    "test_df.schema"
   ]
  },
  {
   "cell_type": "code",
   "execution_count": 40,
   "metadata": {},
   "outputs": [
    {
     "name": "stdout",
     "output_type": "stream",
     "text": [
      "----------------------------------------------------------------------------------------------------------\n",
      "|\"DATE\"     |\"Time (Local)\"  |\"EYEBALLS\"  |\"ZEROES\"  |\"Completed Trips\"  |\"REQUESTS\"  |\"Unique Drivers\"  |\n",
      "----------------------------------------------------------------------------------------------------------\n",
      "|22-Sep-12  |0               |62          |4         |19                 |27          |27                |\n",
      "|22-Sep-12  |1               |39          |5         |17                 |24          |24                |\n",
      "|22-Sep-12  |2               |30          |0         |9                  |18          |12                |\n",
      "|22-Sep-12  |3               |11          |3         |3                  |3           |8                 |\n",
      "|22-Sep-12  |4               |6           |4         |2                  |3           |1                 |\n",
      "|22-Sep-12  |5               |5           |4         |1                  |2           |0                 |\n",
      "|22-Sep-12  |6               |5           |5         |0                  |1           |0                 |\n",
      "|22-Sep-12  |7               |8           |3         |0                  |0           |1                 |\n",
      "|22-Sep-12  |8               |15          |5         |3                  |5           |3                 |\n",
      "|22-Sep-12  |9               |15          |5         |1                  |1           |6                 |\n",
      "----------------------------------------------------------------------------------------------------------\n",
      "\n"
     ]
    }
   ],
   "source": [
    "test_df.show()"
   ]
  },
  {
   "cell_type": "code",
   "execution_count": 41,
   "metadata": {},
   "outputs": [
    {
     "data": {
      "text/html": [
       "<div>\n",
       "<style scoped>\n",
       "    .dataframe tbody tr th:only-of-type {\n",
       "        vertical-align: middle;\n",
       "    }\n",
       "\n",
       "    .dataframe tbody tr th {\n",
       "        vertical-align: top;\n",
       "    }\n",
       "\n",
       "    .dataframe thead th {\n",
       "        text-align: right;\n",
       "    }\n",
       "</style>\n",
       "<table border=\"1\" class=\"dataframe\">\n",
       "  <thead>\n",
       "    <tr style=\"text-align: right;\">\n",
       "      <th></th>\n",
       "      <th>DATE</th>\n",
       "      <th>TIME</th>\n",
       "      <th>EYEBALLS</th>\n",
       "      <th>ZEROES</th>\n",
       "      <th>COMPLETED_TRIPS</th>\n",
       "      <th>REQUESTS</th>\n",
       "      <th>UNIQUE_DRIVERS</th>\n",
       "      <th>DATE_TIME</th>\n",
       "    </tr>\n",
       "  </thead>\n",
       "  <tbody>\n",
       "    <tr>\n",
       "      <th>0</th>\n",
       "      <td>2012-09-22</td>\n",
       "      <td>0</td>\n",
       "      <td>62</td>\n",
       "      <td>4</td>\n",
       "      <td>19</td>\n",
       "      <td>27</td>\n",
       "      <td>27</td>\n",
       "      <td>2012-09-22 00:00:00</td>\n",
       "    </tr>\n",
       "    <tr>\n",
       "      <th>1</th>\n",
       "      <td>2012-09-22</td>\n",
       "      <td>1</td>\n",
       "      <td>39</td>\n",
       "      <td>5</td>\n",
       "      <td>17</td>\n",
       "      <td>24</td>\n",
       "      <td>24</td>\n",
       "      <td>2012-09-22 01:00:00</td>\n",
       "    </tr>\n",
       "    <tr>\n",
       "      <th>2</th>\n",
       "      <td>2012-09-22</td>\n",
       "      <td>2</td>\n",
       "      <td>30</td>\n",
       "      <td>0</td>\n",
       "      <td>9</td>\n",
       "      <td>18</td>\n",
       "      <td>12</td>\n",
       "      <td>2012-09-22 02:00:00</td>\n",
       "    </tr>\n",
       "    <tr>\n",
       "      <th>3</th>\n",
       "      <td>2012-09-22</td>\n",
       "      <td>3</td>\n",
       "      <td>11</td>\n",
       "      <td>3</td>\n",
       "      <td>3</td>\n",
       "      <td>3</td>\n",
       "      <td>8</td>\n",
       "      <td>2012-09-22 03:00:00</td>\n",
       "    </tr>\n",
       "    <tr>\n",
       "      <th>4</th>\n",
       "      <td>2012-09-22</td>\n",
       "      <td>4</td>\n",
       "      <td>6</td>\n",
       "      <td>4</td>\n",
       "      <td>2</td>\n",
       "      <td>3</td>\n",
       "      <td>1</td>\n",
       "      <td>2012-09-22 04:00:00</td>\n",
       "    </tr>\n",
       "    <tr>\n",
       "      <th>5</th>\n",
       "      <td>2012-09-22</td>\n",
       "      <td>5</td>\n",
       "      <td>5</td>\n",
       "      <td>4</td>\n",
       "      <td>1</td>\n",
       "      <td>2</td>\n",
       "      <td>0</td>\n",
       "      <td>2012-09-22 05:00:00</td>\n",
       "    </tr>\n",
       "    <tr>\n",
       "      <th>6</th>\n",
       "      <td>2012-09-22</td>\n",
       "      <td>6</td>\n",
       "      <td>5</td>\n",
       "      <td>5</td>\n",
       "      <td>0</td>\n",
       "      <td>1</td>\n",
       "      <td>0</td>\n",
       "      <td>2012-09-22 06:00:00</td>\n",
       "    </tr>\n",
       "    <tr>\n",
       "      <th>7</th>\n",
       "      <td>2012-09-22</td>\n",
       "      <td>7</td>\n",
       "      <td>8</td>\n",
       "      <td>3</td>\n",
       "      <td>0</td>\n",
       "      <td>0</td>\n",
       "      <td>1</td>\n",
       "      <td>2012-09-22 07:00:00</td>\n",
       "    </tr>\n",
       "    <tr>\n",
       "      <th>8</th>\n",
       "      <td>2012-09-22</td>\n",
       "      <td>8</td>\n",
       "      <td>15</td>\n",
       "      <td>5</td>\n",
       "      <td>3</td>\n",
       "      <td>5</td>\n",
       "      <td>3</td>\n",
       "      <td>2012-09-22 08:00:00</td>\n",
       "    </tr>\n",
       "    <tr>\n",
       "      <th>9</th>\n",
       "      <td>2012-09-22</td>\n",
       "      <td>9</td>\n",
       "      <td>15</td>\n",
       "      <td>5</td>\n",
       "      <td>1</td>\n",
       "      <td>1</td>\n",
       "      <td>6</td>\n",
       "      <td>2012-09-22 09:00:00</td>\n",
       "    </tr>\n",
       "    <tr>\n",
       "      <th>10</th>\n",
       "      <td>2012-09-22</td>\n",
       "      <td>10</td>\n",
       "      <td>30</td>\n",
       "      <td>7</td>\n",
       "      <td>3</td>\n",
       "      <td>3</td>\n",
       "      <td>9</td>\n",
       "      <td>2012-09-22 10:00:00</td>\n",
       "    </tr>\n",
       "    <tr>\n",
       "      <th>11</th>\n",
       "      <td>2012-09-22</td>\n",
       "      <td>11</td>\n",
       "      <td>33</td>\n",
       "      <td>6</td>\n",
       "      <td>5</td>\n",
       "      <td>7</td>\n",
       "      <td>9</td>\n",
       "      <td>2012-09-22 11:00:00</td>\n",
       "    </tr>\n",
       "    <tr>\n",
       "      <th>12</th>\n",
       "      <td>2012-09-22</td>\n",
       "      <td>12</td>\n",
       "      <td>34</td>\n",
       "      <td>5</td>\n",
       "      <td>12</td>\n",
       "      <td>14</td>\n",
       "      <td>9</td>\n",
       "      <td>2012-09-22 12:00:00</td>\n",
       "    </tr>\n",
       "    <tr>\n",
       "      <th>13</th>\n",
       "      <td>2012-09-22</td>\n",
       "      <td>13</td>\n",
       "      <td>61</td>\n",
       "      <td>25</td>\n",
       "      <td>12</td>\n",
       "      <td>17</td>\n",
       "      <td>10</td>\n",
       "      <td>2012-09-22 13:00:00</td>\n",
       "    </tr>\n",
       "    <tr>\n",
       "      <th>14</th>\n",
       "      <td>2012-09-22</td>\n",
       "      <td>14</td>\n",
       "      <td>62</td>\n",
       "      <td>10</td>\n",
       "      <td>16</td>\n",
       "      <td>21</td>\n",
       "      <td>15</td>\n",
       "      <td>2012-09-22 14:00:00</td>\n",
       "    </tr>\n",
       "    <tr>\n",
       "      <th>15</th>\n",
       "      <td>2012-09-22</td>\n",
       "      <td>15</td>\n",
       "      <td>75</td>\n",
       "      <td>15</td>\n",
       "      <td>18</td>\n",
       "      <td>23</td>\n",
       "      <td>16</td>\n",
       "      <td>2012-09-22 15:00:00</td>\n",
       "    </tr>\n",
       "    <tr>\n",
       "      <th>16</th>\n",
       "      <td>2012-09-22</td>\n",
       "      <td>16</td>\n",
       "      <td>58</td>\n",
       "      <td>17</td>\n",
       "      <td>15</td>\n",
       "      <td>18</td>\n",
       "      <td>16</td>\n",
       "      <td>2012-09-22 16:00:00</td>\n",
       "    </tr>\n",
       "    <tr>\n",
       "      <th>17</th>\n",
       "      <td>2012-09-22</td>\n",
       "      <td>17</td>\n",
       "      <td>41</td>\n",
       "      <td>2</td>\n",
       "      <td>8</td>\n",
       "      <td>10</td>\n",
       "      <td>20</td>\n",
       "      <td>2012-09-22 17:00:00</td>\n",
       "    </tr>\n",
       "    <tr>\n",
       "      <th>18</th>\n",
       "      <td>2012-09-22</td>\n",
       "      <td>18</td>\n",
       "      <td>49</td>\n",
       "      <td>7</td>\n",
       "      <td>11</td>\n",
       "      <td>13</td>\n",
       "      <td>16</td>\n",
       "      <td>2012-09-22 18:00:00</td>\n",
       "    </tr>\n",
       "    <tr>\n",
       "      <th>19</th>\n",
       "      <td>2012-09-22</td>\n",
       "      <td>19</td>\n",
       "      <td>43</td>\n",
       "      <td>10</td>\n",
       "      <td>21</td>\n",
       "      <td>24</td>\n",
       "      <td>15</td>\n",
       "      <td>2012-09-22 19:00:00</td>\n",
       "    </tr>\n",
       "    <tr>\n",
       "      <th>20</th>\n",
       "      <td>2012-09-22</td>\n",
       "      <td>20</td>\n",
       "      <td>49</td>\n",
       "      <td>4</td>\n",
       "      <td>7</td>\n",
       "      <td>14</td>\n",
       "      <td>18</td>\n",
       "      <td>2012-09-22 20:00:00</td>\n",
       "    </tr>\n",
       "    <tr>\n",
       "      <th>21</th>\n",
       "      <td>2012-09-22</td>\n",
       "      <td>21</td>\n",
       "      <td>53</td>\n",
       "      <td>3</td>\n",
       "      <td>15</td>\n",
       "      <td>19</td>\n",
       "      <td>21</td>\n",
       "      <td>2012-09-22 21:00:00</td>\n",
       "    </tr>\n",
       "    <tr>\n",
       "      <th>22</th>\n",
       "      <td>2012-09-22</td>\n",
       "      <td>22</td>\n",
       "      <td>77</td>\n",
       "      <td>11</td>\n",
       "      <td>25</td>\n",
       "      <td>33</td>\n",
       "      <td>19</td>\n",
       "      <td>2012-09-22 22:00:00</td>\n",
       "    </tr>\n",
       "    <tr>\n",
       "      <th>23</th>\n",
       "      <td>2012-09-22</td>\n",
       "      <td>23</td>\n",
       "      <td>99</td>\n",
       "      <td>59</td>\n",
       "      <td>25</td>\n",
       "      <td>44</td>\n",
       "      <td>17</td>\n",
       "      <td>2012-09-22 23:00:00</td>\n",
       "    </tr>\n",
       "    <tr>\n",
       "      <th>24</th>\n",
       "      <td>2012-09-23</td>\n",
       "      <td>0</td>\n",
       "      <td>62</td>\n",
       "      <td>25</td>\n",
       "      <td>23</td>\n",
       "      <td>32</td>\n",
       "      <td>18</td>\n",
       "      <td>2012-09-23 00:00:00</td>\n",
       "    </tr>\n",
       "    <tr>\n",
       "      <th>25</th>\n",
       "      <td>2012-09-23</td>\n",
       "      <td>1</td>\n",
       "      <td>38</td>\n",
       "      <td>1</td>\n",
       "      <td>15</td>\n",
       "      <td>23</td>\n",
       "      <td>18</td>\n",
       "      <td>2012-09-23 01:00:00</td>\n",
       "    </tr>\n",
       "    <tr>\n",
       "      <th>26</th>\n",
       "      <td>2012-09-23</td>\n",
       "      <td>2</td>\n",
       "      <td>34</td>\n",
       "      <td>4</td>\n",
       "      <td>13</td>\n",
       "      <td>18</td>\n",
       "      <td>18</td>\n",
       "      <td>2012-09-23 02:00:00</td>\n",
       "    </tr>\n",
       "    <tr>\n",
       "      <th>27</th>\n",
       "      <td>2012-09-23</td>\n",
       "      <td>3</td>\n",
       "      <td>19</td>\n",
       "      <td>1</td>\n",
       "      <td>9</td>\n",
       "      <td>9</td>\n",
       "      <td>16</td>\n",
       "      <td>2012-09-23 03:00:00</td>\n",
       "    </tr>\n",
       "    <tr>\n",
       "      <th>28</th>\n",
       "      <td>2012-09-23</td>\n",
       "      <td>4</td>\n",
       "      <td>1</td>\n",
       "      <td>0</td>\n",
       "      <td>0</td>\n",
       "      <td>1</td>\n",
       "      <td>4</td>\n",
       "      <td>2012-09-23 04:00:00</td>\n",
       "    </tr>\n",
       "    <tr>\n",
       "      <th>29</th>\n",
       "      <td>2012-09-23</td>\n",
       "      <td>5</td>\n",
       "      <td>9</td>\n",
       "      <td>9</td>\n",
       "      <td>0</td>\n",
       "      <td>4</td>\n",
       "      <td>0</td>\n",
       "      <td>2012-09-23 05:00:00</td>\n",
       "    </tr>\n",
       "    <tr>\n",
       "      <th>30</th>\n",
       "      <td>2012-09-23</td>\n",
       "      <td>6</td>\n",
       "      <td>8</td>\n",
       "      <td>7</td>\n",
       "      <td>1</td>\n",
       "      <td>1</td>\n",
       "      <td>1</td>\n",
       "      <td>2012-09-23 06:00:00</td>\n",
       "    </tr>\n",
       "    <tr>\n",
       "      <th>31</th>\n",
       "      <td>2012-09-23</td>\n",
       "      <td>7</td>\n",
       "      <td>7</td>\n",
       "      <td>3</td>\n",
       "      <td>2</td>\n",
       "      <td>2</td>\n",
       "      <td>2</td>\n",
       "      <td>2012-09-23 07:00:00</td>\n",
       "    </tr>\n",
       "    <tr>\n",
       "      <th>32</th>\n",
       "      <td>2012-09-23</td>\n",
       "      <td>8</td>\n",
       "      <td>13</td>\n",
       "      <td>3</td>\n",
       "      <td>0</td>\n",
       "      <td>0</td>\n",
       "      <td>4</td>\n",
       "      <td>2012-09-23 08:00:00</td>\n",
       "    </tr>\n",
       "    <tr>\n",
       "      <th>33</th>\n",
       "      <td>2012-09-23</td>\n",
       "      <td>9</td>\n",
       "      <td>14</td>\n",
       "      <td>4</td>\n",
       "      <td>0</td>\n",
       "      <td>1</td>\n",
       "      <td>6</td>\n",
       "      <td>2012-09-23 09:00:00</td>\n",
       "    </tr>\n",
       "    <tr>\n",
       "      <th>34</th>\n",
       "      <td>2012-09-23</td>\n",
       "      <td>10</td>\n",
       "      <td>19</td>\n",
       "      <td>3</td>\n",
       "      <td>2</td>\n",
       "      <td>2</td>\n",
       "      <td>9</td>\n",
       "      <td>2012-09-23 10:00:00</td>\n",
       "    </tr>\n",
       "    <tr>\n",
       "      <th>35</th>\n",
       "      <td>2012-09-23</td>\n",
       "      <td>11</td>\n",
       "      <td>20</td>\n",
       "      <td>3</td>\n",
       "      <td>3</td>\n",
       "      <td>5</td>\n",
       "      <td>8</td>\n",
       "      <td>2012-09-23 11:00:00</td>\n",
       "    </tr>\n",
       "    <tr>\n",
       "      <th>36</th>\n",
       "      <td>2012-09-23</td>\n",
       "      <td>12</td>\n",
       "      <td>25</td>\n",
       "      <td>3</td>\n",
       "      <td>2</td>\n",
       "      <td>4</td>\n",
       "      <td>8</td>\n",
       "      <td>2012-09-23 12:00:00</td>\n",
       "    </tr>\n",
       "    <tr>\n",
       "      <th>37</th>\n",
       "      <td>2012-09-23</td>\n",
       "      <td>13</td>\n",
       "      <td>15</td>\n",
       "      <td>4</td>\n",
       "      <td>3</td>\n",
       "      <td>3</td>\n",
       "      <td>9</td>\n",
       "      <td>2012-09-23 13:00:00</td>\n",
       "    </tr>\n",
       "    <tr>\n",
       "      <th>38</th>\n",
       "      <td>2012-09-23</td>\n",
       "      <td>14</td>\n",
       "      <td>20</td>\n",
       "      <td>2</td>\n",
       "      <td>4</td>\n",
       "      <td>4</td>\n",
       "      <td>7</td>\n",
       "      <td>2012-09-23 14:00:00</td>\n",
       "    </tr>\n",
       "    <tr>\n",
       "      <th>39</th>\n",
       "      <td>2012-09-23</td>\n",
       "      <td>15</td>\n",
       "      <td>22</td>\n",
       "      <td>4</td>\n",
       "      <td>0</td>\n",
       "      <td>2</td>\n",
       "      <td>9</td>\n",
       "      <td>2012-09-23 15:00:00</td>\n",
       "    </tr>\n",
       "    <tr>\n",
       "      <th>40</th>\n",
       "      <td>2012-09-23</td>\n",
       "      <td>16</td>\n",
       "      <td>22</td>\n",
       "      <td>0</td>\n",
       "      <td>7</td>\n",
       "      <td>8</td>\n",
       "      <td>11</td>\n",
       "      <td>2012-09-23 16:00:00</td>\n",
       "    </tr>\n",
       "    <tr>\n",
       "      <th>41</th>\n",
       "      <td>2012-09-23</td>\n",
       "      <td>17</td>\n",
       "      <td>31</td>\n",
       "      <td>9</td>\n",
       "      <td>4</td>\n",
       "      <td>6</td>\n",
       "      <td>12</td>\n",
       "      <td>2012-09-23 17:00:00</td>\n",
       "    </tr>\n",
       "    <tr>\n",
       "      <th>42</th>\n",
       "      <td>2012-09-23</td>\n",
       "      <td>18</td>\n",
       "      <td>36</td>\n",
       "      <td>4</td>\n",
       "      <td>8</td>\n",
       "      <td>11</td>\n",
       "      <td>12</td>\n",
       "      <td>2012-09-23 18:00:00</td>\n",
       "    </tr>\n",
       "    <tr>\n",
       "      <th>43</th>\n",
       "      <td>2012-09-23</td>\n",
       "      <td>19</td>\n",
       "      <td>32</td>\n",
       "      <td>9</td>\n",
       "      <td>4</td>\n",
       "      <td>6</td>\n",
       "      <td>11</td>\n",
       "      <td>2012-09-23 19:00:00</td>\n",
       "    </tr>\n",
       "    <tr>\n",
       "      <th>44</th>\n",
       "      <td>2012-09-23</td>\n",
       "      <td>20</td>\n",
       "      <td>29</td>\n",
       "      <td>6</td>\n",
       "      <td>3</td>\n",
       "      <td>3</td>\n",
       "      <td>7</td>\n",
       "      <td>2012-09-23 20:00:00</td>\n",
       "    </tr>\n",
       "    <tr>\n",
       "      <th>45</th>\n",
       "      <td>2012-09-23</td>\n",
       "      <td>21</td>\n",
       "      <td>24</td>\n",
       "      <td>6</td>\n",
       "      <td>3</td>\n",
       "      <td>4</td>\n",
       "      <td>5</td>\n",
       "      <td>2012-09-23 21:00:00</td>\n",
       "    </tr>\n",
       "    <tr>\n",
       "      <th>46</th>\n",
       "      <td>2012-09-23</td>\n",
       "      <td>22</td>\n",
       "      <td>17</td>\n",
       "      <td>2</td>\n",
       "      <td>2</td>\n",
       "      <td>2</td>\n",
       "      <td>6</td>\n",
       "      <td>2012-09-23 22:00:00</td>\n",
       "    </tr>\n",
       "    <tr>\n",
       "      <th>47</th>\n",
       "      <td>2012-09-23</td>\n",
       "      <td>23</td>\n",
       "      <td>9</td>\n",
       "      <td>3</td>\n",
       "      <td>3</td>\n",
       "      <td>3</td>\n",
       "      <td>3</td>\n",
       "      <td>2012-09-23 23:00:00</td>\n",
       "    </tr>\n",
       "    <tr>\n",
       "      <th>48</th>\n",
       "      <td>2012-09-24</td>\n",
       "      <td>0</td>\n",
       "      <td>7</td>\n",
       "      <td>2</td>\n",
       "      <td>1</td>\n",
       "      <td>2</td>\n",
       "      <td>2</td>\n",
       "      <td>2012-09-24 00:00:00</td>\n",
       "    </tr>\n",
       "    <tr>\n",
       "      <th>49</th>\n",
       "      <td>2012-09-24</td>\n",
       "      <td>1</td>\n",
       "      <td>7</td>\n",
       "      <td>7</td>\n",
       "      <td>0</td>\n",
       "      <td>0</td>\n",
       "      <td>0</td>\n",
       "      <td>2012-09-24 01:00:00</td>\n",
       "    </tr>\n",
       "    <tr>\n",
       "      <th>50</th>\n",
       "      <td>2012-09-24</td>\n",
       "      <td>2</td>\n",
       "      <td>3</td>\n",
       "      <td>3</td>\n",
       "      <td>0</td>\n",
       "      <td>2</td>\n",
       "      <td>0</td>\n",
       "      <td>2012-09-24 02:00:00</td>\n",
       "    </tr>\n",
       "    <tr>\n",
       "      <th>51</th>\n",
       "      <td>2012-09-24</td>\n",
       "      <td>3</td>\n",
       "      <td>3</td>\n",
       "      <td>3</td>\n",
       "      <td>0</td>\n",
       "      <td>1</td>\n",
       "      <td>0</td>\n",
       "      <td>2012-09-24 03:00:00</td>\n",
       "    </tr>\n",
       "    <tr>\n",
       "      <th>52</th>\n",
       "      <td>2012-09-24</td>\n",
       "      <td>4</td>\n",
       "      <td>1</td>\n",
       "      <td>1</td>\n",
       "      <td>0</td>\n",
       "      <td>0</td>\n",
       "      <td>0</td>\n",
       "      <td>2012-09-24 04:00:00</td>\n",
       "    </tr>\n",
       "    <tr>\n",
       "      <th>53</th>\n",
       "      <td>2012-09-24</td>\n",
       "      <td>5</td>\n",
       "      <td>4</td>\n",
       "      <td>2</td>\n",
       "      <td>1</td>\n",
       "      <td>1</td>\n",
       "      <td>3</td>\n",
       "      <td>2012-09-24 05:00:00</td>\n",
       "    </tr>\n",
       "    <tr>\n",
       "      <th>54</th>\n",
       "      <td>2012-09-24</td>\n",
       "      <td>6</td>\n",
       "      <td>9</td>\n",
       "      <td>1</td>\n",
       "      <td>2</td>\n",
       "      <td>2</td>\n",
       "      <td>7</td>\n",
       "      <td>2012-09-24 06:00:00</td>\n",
       "    </tr>\n",
       "  </tbody>\n",
       "</table>\n",
       "</div>"
      ],
      "text/plain": [
       "         DATE  TIME  EYEBALLS  ZEROES  COMPLETED_TRIPS  REQUESTS  \\\n",
       "0  2012-09-22     0        62       4               19        27   \n",
       "1  2012-09-22     1        39       5               17        24   \n",
       "2  2012-09-22     2        30       0                9        18   \n",
       "3  2012-09-22     3        11       3                3         3   \n",
       "4  2012-09-22     4         6       4                2         3   \n",
       "5  2012-09-22     5         5       4                1         2   \n",
       "6  2012-09-22     6         5       5                0         1   \n",
       "7  2012-09-22     7         8       3                0         0   \n",
       "8  2012-09-22     8        15       5                3         5   \n",
       "9  2012-09-22     9        15       5                1         1   \n",
       "10 2012-09-22    10        30       7                3         3   \n",
       "11 2012-09-22    11        33       6                5         7   \n",
       "12 2012-09-22    12        34       5               12        14   \n",
       "13 2012-09-22    13        61      25               12        17   \n",
       "14 2012-09-22    14        62      10               16        21   \n",
       "15 2012-09-22    15        75      15               18        23   \n",
       "16 2012-09-22    16        58      17               15        18   \n",
       "17 2012-09-22    17        41       2                8        10   \n",
       "18 2012-09-22    18        49       7               11        13   \n",
       "19 2012-09-22    19        43      10               21        24   \n",
       "20 2012-09-22    20        49       4                7        14   \n",
       "21 2012-09-22    21        53       3               15        19   \n",
       "22 2012-09-22    22        77      11               25        33   \n",
       "23 2012-09-22    23        99      59               25        44   \n",
       "24 2012-09-23     0        62      25               23        32   \n",
       "25 2012-09-23     1        38       1               15        23   \n",
       "26 2012-09-23     2        34       4               13        18   \n",
       "27 2012-09-23     3        19       1                9         9   \n",
       "28 2012-09-23     4         1       0                0         1   \n",
       "29 2012-09-23     5         9       9                0         4   \n",
       "30 2012-09-23     6         8       7                1         1   \n",
       "31 2012-09-23     7         7       3                2         2   \n",
       "32 2012-09-23     8        13       3                0         0   \n",
       "33 2012-09-23     9        14       4                0         1   \n",
       "34 2012-09-23    10        19       3                2         2   \n",
       "35 2012-09-23    11        20       3                3         5   \n",
       "36 2012-09-23    12        25       3                2         4   \n",
       "37 2012-09-23    13        15       4                3         3   \n",
       "38 2012-09-23    14        20       2                4         4   \n",
       "39 2012-09-23    15        22       4                0         2   \n",
       "40 2012-09-23    16        22       0                7         8   \n",
       "41 2012-09-23    17        31       9                4         6   \n",
       "42 2012-09-23    18        36       4                8        11   \n",
       "43 2012-09-23    19        32       9                4         6   \n",
       "44 2012-09-23    20        29       6                3         3   \n",
       "45 2012-09-23    21        24       6                3         4   \n",
       "46 2012-09-23    22        17       2                2         2   \n",
       "47 2012-09-23    23         9       3                3         3   \n",
       "48 2012-09-24     0         7       2                1         2   \n",
       "49 2012-09-24     1         7       7                0         0   \n",
       "50 2012-09-24     2         3       3                0         2   \n",
       "51 2012-09-24     3         3       3                0         1   \n",
       "52 2012-09-24     4         1       1                0         0   \n",
       "53 2012-09-24     5         4       2                1         1   \n",
       "54 2012-09-24     6         9       1                2         2   \n",
       "\n",
       "    UNIQUE_DRIVERS           DATE_TIME  \n",
       "0               27 2012-09-22 00:00:00  \n",
       "1               24 2012-09-22 01:00:00  \n",
       "2               12 2012-09-22 02:00:00  \n",
       "3                8 2012-09-22 03:00:00  \n",
       "4                1 2012-09-22 04:00:00  \n",
       "5                0 2012-09-22 05:00:00  \n",
       "6                0 2012-09-22 06:00:00  \n",
       "7                1 2012-09-22 07:00:00  \n",
       "8                3 2012-09-22 08:00:00  \n",
       "9                6 2012-09-22 09:00:00  \n",
       "10               9 2012-09-22 10:00:00  \n",
       "11               9 2012-09-22 11:00:00  \n",
       "12               9 2012-09-22 12:00:00  \n",
       "13              10 2012-09-22 13:00:00  \n",
       "14              15 2012-09-22 14:00:00  \n",
       "15              16 2012-09-22 15:00:00  \n",
       "16              16 2012-09-22 16:00:00  \n",
       "17              20 2012-09-22 17:00:00  \n",
       "18              16 2012-09-22 18:00:00  \n",
       "19              15 2012-09-22 19:00:00  \n",
       "20              18 2012-09-22 20:00:00  \n",
       "21              21 2012-09-22 21:00:00  \n",
       "22              19 2012-09-22 22:00:00  \n",
       "23              17 2012-09-22 23:00:00  \n",
       "24              18 2012-09-23 00:00:00  \n",
       "25              18 2012-09-23 01:00:00  \n",
       "26              18 2012-09-23 02:00:00  \n",
       "27              16 2012-09-23 03:00:00  \n",
       "28               4 2012-09-23 04:00:00  \n",
       "29               0 2012-09-23 05:00:00  \n",
       "30               1 2012-09-23 06:00:00  \n",
       "31               2 2012-09-23 07:00:00  \n",
       "32               4 2012-09-23 08:00:00  \n",
       "33               6 2012-09-23 09:00:00  \n",
       "34               9 2012-09-23 10:00:00  \n",
       "35               8 2012-09-23 11:00:00  \n",
       "36               8 2012-09-23 12:00:00  \n",
       "37               9 2012-09-23 13:00:00  \n",
       "38               7 2012-09-23 14:00:00  \n",
       "39               9 2012-09-23 15:00:00  \n",
       "40              11 2012-09-23 16:00:00  \n",
       "41              12 2012-09-23 17:00:00  \n",
       "42              12 2012-09-23 18:00:00  \n",
       "43              11 2012-09-23 19:00:00  \n",
       "44               7 2012-09-23 20:00:00  \n",
       "45               5 2012-09-23 21:00:00  \n",
       "46               6 2012-09-23 22:00:00  \n",
       "47               3 2012-09-23 23:00:00  \n",
       "48               2 2012-09-24 00:00:00  \n",
       "49               0 2012-09-24 01:00:00  \n",
       "50               0 2012-09-24 02:00:00  \n",
       "51               0 2012-09-24 03:00:00  \n",
       "52               0 2012-09-24 04:00:00  \n",
       "53               3 2012-09-24 05:00:00  \n",
       "54               7 2012-09-24 06:00:00  "
      ]
     },
     "execution_count": 41,
     "metadata": {},
     "output_type": "execute_result"
    }
   ],
   "source": [
    "cleaned_df=data_cleaning(test_df)\n",
    "cleaned_df"
   ]
  },
  {
   "cell_type": "code",
   "execution_count": 42,
   "metadata": {
    "application/vnd.databricks.v1+cell": {
     "cellMetadata": {},
     "inputWidgets": {},
     "nuid": "6a4c6614-a8ba-42cf-8893-8139c8501cf7",
     "showTitle": false,
     "title": ""
    }
   },
   "outputs": [
    {
     "name": "stdout",
     "output_type": "stream",
     "text": [
      "----------------------------------------------------------------------------------------------------------------------------------\n",
      "|\"DATE\"               |\"TIME\"  |\"EYEBALLS\"  |\"ZEROES\"  |\"COMPLETED_TRIPS\"  |\"REQUESTS\"  |\"UNIQUE_DRIVERS\"  |\"DATE_TIME\"          |\n",
      "----------------------------------------------------------------------------------------------------------------------------------\n",
      "|2012-09-22 00:00:00  |0       |62          |4         |19                 |27          |27                |2012-09-22 00:00:00  |\n",
      "|2012-09-22 00:00:00  |1       |39          |5         |17                 |24          |24                |2012-09-22 01:00:00  |\n",
      "|2012-09-22 00:00:00  |2       |30          |0         |9                  |18          |12                |2012-09-22 02:00:00  |\n",
      "|2012-09-22 00:00:00  |3       |11          |3         |3                  |3           |8                 |2012-09-22 03:00:00  |\n",
      "|2012-09-22 00:00:00  |4       |6           |4         |2                  |3           |1                 |2012-09-22 04:00:00  |\n",
      "|2012-09-22 00:00:00  |5       |5           |4         |1                  |2           |0                 |2012-09-22 05:00:00  |\n",
      "|2012-09-22 00:00:00  |6       |5           |5         |0                  |1           |0                 |2012-09-22 06:00:00  |\n",
      "|2012-09-22 00:00:00  |7       |8           |3         |0                  |0           |1                 |2012-09-22 07:00:00  |\n",
      "|2012-09-22 00:00:00  |8       |15          |5         |3                  |5           |3                 |2012-09-22 08:00:00  |\n",
      "|2012-09-22 00:00:00  |9       |15          |5         |1                  |1           |6                 |2012-09-22 09:00:00  |\n",
      "----------------------------------------------------------------------------------------------------------------------------------\n",
      "\n"
     ]
    }
   ],
   "source": [
    "cleaned_df['DATE']=cleaned_df['DATE'].dt.tz_localize('UTC')\n",
    "cleaned_df['DATE_TIME']=cleaned_df['DATE_TIME'].dt.tz_localize('UTC')\n",
    "uber_df=session.create_dataframe(cleaned_df)\n",
    "uber_df.show()"
   ]
  },
  {
   "cell_type": "code",
   "execution_count": 43,
   "metadata": {},
   "outputs": [
    {
     "name": "stdout",
     "output_type": "stream",
     "text": [
      "-------------------------------------------------------------------------------------------------------------------------\n",
      "|\"DATE\"      |\"TIME\"  |\"EYEBALLS\"  |\"ZEROES\"  |\"COMPLETED_TRIPS\"  |\"REQUESTS\"  |\"UNIQUE_DRIVERS\"  |\"DATE_TIME\"          |\n",
      "-------------------------------------------------------------------------------------------------------------------------\n",
      "|2012-09-22  |0       |62          |4         |19                 |27          |27                |2012-09-22 00:00:00  |\n",
      "|2012-09-22  |1       |39          |5         |17                 |24          |24                |2012-09-22 01:00:00  |\n",
      "|2012-09-22  |2       |30          |0         |9                  |18          |12                |2012-09-22 02:00:00  |\n",
      "|2012-09-22  |3       |11          |3         |3                  |3           |8                 |2012-09-22 03:00:00  |\n",
      "|2012-09-22  |4       |6           |4         |2                  |3           |1                 |2012-09-22 04:00:00  |\n",
      "|2012-09-22  |5       |5           |4         |1                  |2           |0                 |2012-09-22 05:00:00  |\n",
      "|2012-09-22  |6       |5           |5         |0                  |1           |0                 |2012-09-22 06:00:00  |\n",
      "|2012-09-22  |7       |8           |3         |0                  |0           |1                 |2012-09-22 07:00:00  |\n",
      "|2012-09-22  |8       |15          |5         |3                  |5           |3                 |2012-09-22 08:00:00  |\n",
      "|2012-09-22  |9       |15          |5         |1                  |1           |6                 |2012-09-22 09:00:00  |\n",
      "-------------------------------------------------------------------------------------------------------------------------\n",
      "\n"
     ]
    }
   ],
   "source": [
    "cleaned_uber=uber_df.select(to_date(col('DATE')).alias('DATE'),\"TIME\",\"EYEBALLS\",\"ZEROES\",\"COMPLETED_TRIPS\",\"REQUESTS\",\"UNIQUE_DRIVERS\",\"DATE_TIME\")\n",
    "cleaned_uber.show()"
   ]
  },
  {
   "cell_type": "markdown",
   "metadata": {
    "application/vnd.databricks.v1+cell": {
     "cellMetadata": {},
     "inputWidgets": {},
     "nuid": "afccdeac-4dcf-4ec7-8b82-e10636c7e72a",
     "showTitle": false,
     "title": ""
    }
   },
   "source": [
    "The below function test the max_trips_date function with sample data file(test data ) and the expected output is present in the output1 table in snowflake . The function calls the function defined above for validation and compares if the actual and expected output match"
   ]
  },
  {
   "cell_type": "code",
   "execution_count": 44,
   "metadata": {},
   "outputs": [
    {
     "data": {
      "text/plain": [
       "StructType([StructField('DATE', DateType(), nullable=True)])"
      ]
     },
     "execution_count": 44,
     "metadata": {},
     "output_type": "execute_result"
    }
   ],
   "source": [
    "output1_df = session.sql('select * from output1')\n",
    "output1_df.schema"
   ]
  },
  {
   "cell_type": "code",
   "execution_count": 45,
   "metadata": {
    "application/vnd.databricks.v1+cell": {
     "cellMetadata": {},
     "inputWidgets": {},
     "nuid": "48dd36df-6402-487d-a4df-e2c2cd1d0617",
     "showTitle": false,
     "title": ""
    }
   },
   "outputs": [
    {
     "name": "stdout",
     "output_type": "stream",
     "text": [
      "--------------\n",
      "|\"DATE\"      |\n",
      "--------------\n",
      "|2012-09-22  |\n",
      "--------------\n",
      "\n",
      "--------------\n",
      "|\"DATE\"      |\n",
      "--------------\n",
      "|2012-09-22  |\n",
      "--------------\n",
      "\n",
      "Row count of the actual_df and expected_df match\n",
      "Schema of the actual_df and expected_df match\n",
      "Dataframes are equivalent!\n"
     ]
    }
   ],
   "source": [
    "def test_max_trips_date():\n",
    "    output_df = max_trips_date(cleaned_uber)\n",
    "    output_df.show()\n",
    "    # print(output_df.schema)\n",
    "    # Define expected output data\n",
    "    expected_data = output1_df\n",
    "    expected_data.show()\n",
    "    if compare_row_count(output_df, expected_data):\n",
    "        print(\"Row count of the actual_df and expected_df match\")\n",
    "    else:\n",
    "        print(\"Row count of the actual_df and expected_df do not match\")\n",
    "        return False\n",
    "    if compare_schema(output_df, expected_data):\n",
    "        print(\"Schema of the actual_df and expected_df match\")\n",
    "    else:\n",
    "        print(\"Schema of the actual_df and expected_df do not match\")\n",
    "        return False\n",
    "    if compare_dataframes(output_df, expected_data):\n",
    "        print(\"Dataframes are equivalent!\")\n",
    "    else:\n",
    "        print(\"Dataframes are not equivalent\")\n",
    "test_max_trips_date()    "
   ]
  },
  {
   "cell_type": "markdown",
   "metadata": {
    "application/vnd.databricks.v1+cell": {
     "cellMetadata": {},
     "inputWidgets": {},
     "nuid": "1f905031-42a8-4218-acfa-52bebb9b48fc",
     "showTitle": false,
     "title": ""
    }
   },
   "source": [
    "The below function test the highest_completed_trip function with sample data file(test data ). The function calls the compare_dataframe function defined above and compares if the actual and expected output match"
   ]
  },
  {
   "cell_type": "code",
   "execution_count": 46,
   "metadata": {
    "application/vnd.databricks.v1+cell": {
     "cellMetadata": {},
     "inputWidgets": {},
     "nuid": "f763a0ae-970d-49bd-a691-06b4a977d7ea",
     "showTitle": false,
     "title": ""
    }
   },
   "outputs": [
    {
     "name": "stdout",
     "output_type": "stream",
     "text": [
      "output value 248\n",
      "Dataframes are equivalent!\n"
     ]
    }
   ],
   "source": [
    "def test_highest_completed_trips():\n",
    "    output_df = highest_completed_trips(cleaned_uber)\n",
    "    print(\"output value\",output_df)\n",
    "    expected_data = 248\n",
    "    if compare_dataframes(output_df, expected_data):\n",
    "        print(\"Dataframes are equivalent!\")\n",
    "    else:\n",
    "        print(\"Dataframes are not equivalent\")\n",
    "test_highest_completed_trips()    "
   ]
  },
  {
   "cell_type": "markdown",
   "metadata": {
    "application/vnd.databricks.v1+cell": {
     "cellMetadata": {},
     "inputWidgets": {},
     "nuid": "ad3e53fa-374d-4d90-bb00-9717c075a629",
     "showTitle": false,
     "title": ""
    }
   },
   "source": [
    "The below function test the most_requests_per_hour function with sample data file(test data ). The function calls the compare_dataframe function defined above and compares if the actual and expected output match"
   ]
  },
  {
   "cell_type": "code",
   "execution_count": 47,
   "metadata": {
    "application/vnd.databricks.v1+cell": {
     "cellMetadata": {},
     "inputWidgets": {},
     "nuid": "f1541f65-90ea-494a-9ed3-933d40531238",
     "showTitle": false,
     "title": ""
    }
   },
   "outputs": [
    {
     "name": "stdout",
     "output_type": "stream",
     "text": [
      "output value 0\n",
      "Dataframes are equivalent!\n"
     ]
    }
   ],
   "source": [
    "def test_most_requests_per_hour():\n",
    "    output_df = most_requests_per_hour(cleaned_uber)\n",
    "    print(\"output value\",output_df)\n",
    "\n",
    "    expected_data = 0\n",
    "#     print(type(expected_data))\n",
    "#     # display(expected_data)\n",
    "    if compare_dataframes(output_df, expected_data):\n",
    "        print(\"Dataframes are equivalent!\")\n",
    "    else:\n",
    "        print(\"Dataframes are not equivalent\")\n",
    "test_most_requests_per_hour()   "
   ]
  },
  {
   "cell_type": "code",
   "execution_count": 48,
   "metadata": {
    "application/vnd.databricks.v1+cell": {
     "cellMetadata": {},
     "inputWidgets": {},
     "nuid": "fada10b3-e233-48fa-a6db-f2a87623bbfa",
     "showTitle": false,
     "title": ""
    }
   },
   "outputs": [],
   "source": [
    "# def test_percentage_zeroes():\n",
    "#     output_df = percentage_zeroes(cleaned_df)\n",
    "#     print(\"output value\",output_df)\n",
    "# #     expected_data = 19\n",
    "# #     print(type(expected_data))\n",
    "# #     # display(expected_data)\n",
    "# #     if compare_dataframes(output_df, expected_data):\n",
    "# #         print(\"Dataframes are equivalent!\")\n",
    "# #     else:\n",
    "# #         print(\"Dataframes are not equivalent\")\n",
    "# test_percentage_zeroes()   "
   ]
  },
  {
   "cell_type": "markdown",
   "metadata": {
    "application/vnd.databricks.v1+cell": {
     "cellMetadata": {},
     "inputWidgets": {},
     "nuid": "b1038774-bcdb-48b5-90a0-d8b9497b0b66",
     "showTitle": false,
     "title": ""
    }
   },
   "source": [
    "The below function test the weighted_avg_ratio function with sample data file(test data ) and the expected output is present in the output2 table in snowflake . The function calls the function defined above for validation and compares if the actual and expected output match"
   ]
  },
  {
   "cell_type": "code",
   "execution_count": 49,
   "metadata": {},
   "outputs": [
    {
     "data": {
      "text/plain": [
       "StructType([StructField('WEIGHTED_AVERAGE', DoubleType(), nullable=True)])"
      ]
     },
     "execution_count": 49,
     "metadata": {},
     "output_type": "execute_result"
    }
   ],
   "source": [
    "output2_df = session.sql('select * from output2')\n",
    "output2_df.schema"
   ]
  },
  {
   "cell_type": "code",
   "execution_count": 50,
   "metadata": {
    "scrolled": false
   },
   "outputs": [
    {
     "name": "stdout",
     "output_type": "stream",
     "text": [
      "----------------------\n",
      "|\"WEIGHTED_AVERAGE\"  |\n",
      "----------------------\n",
      "|0.92                |\n",
      "----------------------\n",
      "\n",
      "----------------------\n",
      "|\"WEIGHTED_AVERAGE\"  |\n",
      "----------------------\n",
      "|0.92                |\n",
      "----------------------\n",
      "\n",
      "Schema of the actual_df and expected_df match\n",
      "Dataframes are equivalent!\n"
     ]
    }
   ],
   "source": [
    "def test_weighted_avg_ratio():\n",
    "    output = weighted_avg_ratio(cleaned_uber)\n",
    "#     print(output.schema)\n",
    "    output2=output.select(trunc(col(\"Weighted_average\"), lit(2)).alias('Weighted_average'))\n",
    "#     output2.show()\n",
    "#     print(output2.schema)\n",
    "    output_df = output2.withColumn(\"Weighted_average\",output2.Weighted_average.cast(DoubleType()))\n",
    "    output_df.show()\n",
    "    expected_data=output2_df.select(trunc(col(\"Weighted_average\"), lit(2)).alias('Weighted_average'))\n",
    "    expected_data.show() \n",
    "#     print(expected_data.schema)\n",
    "    if compare_schema(output_df, expected_data):\n",
    "        print(\"Schema of the actual_df and expected_df match\")\n",
    "    else:\n",
    "        print(\"Schema of the actual_df and expected_df do not match\")\n",
    "        return False\n",
    "    if compare_dataframes(output_df, expected_data):\n",
    "        print(\"Dataframes are equivalent!\")\n",
    "    else:\n",
    "        print(\"Dataframes are not equivalent\")\n",
    "test_weighted_avg_ratio()"
   ]
  },
  {
   "cell_type": "markdown",
   "metadata": {
    "application/vnd.databricks.v1+cell": {
     "cellMetadata": {},
     "inputWidgets": {},
     "nuid": "54e3900c-24ff-4c12-9d5c-8177d579fb44",
     "showTitle": false,
     "title": ""
    }
   },
   "source": [
    "The below function test the busiest_hours function with sample data file(test data ) and the expected output expected output is present in the output3 table in snowflake . The function calls the function defined above for validation and compares if the actual and expected output match"
   ]
  },
  {
   "cell_type": "code",
   "execution_count": 51,
   "metadata": {},
   "outputs": [
    {
     "name": "stdout",
     "output_type": "stream",
     "text": [
      "-------------------------------------------\n",
      "|\"TIME\"  |\"TOTAL_REQUESTS\"  |\"SUM_8_HRS\"  |\n",
      "-------------------------------------------\n",
      "|1       |3                 |21           |\n",
      "-------------------------------------------\n",
      "\n"
     ]
    }
   ],
   "source": [
    "output3_df = session.sql('select * from output3')\n",
    "output3_df.show()\n"
   ]
  },
  {
   "cell_type": "code",
   "execution_count": 52,
   "metadata": {
    "scrolled": true
   },
   "outputs": [
    {
     "name": "stdout",
     "output_type": "stream",
     "text": [
      "-------------------------------------------\n",
      "|\"TIME\"  |\"TOTAL_REQUESTS\"  |\"SUM_8_HRS\"  |\n",
      "-------------------------------------------\n",
      "|1       |3                 |21           |\n",
      "-------------------------------------------\n",
      "\n",
      "StructType([StructField('TIME', LongType(), nullable=True), StructField('TOTAL_REQUESTS', LongType(), nullable=False), StructField('SUM_8_HRS', LongType(), nullable=True)])\n",
      "-------------------------------------------\n",
      "|\"TIME\"  |\"TOTAL_REQUESTS\"  |\"SUM_8_HRS\"  |\n",
      "-------------------------------------------\n",
      "|1       |3                 |21           |\n",
      "-------------------------------------------\n",
      "\n",
      "StructType([StructField('TIME', LongType(), nullable=True), StructField('TOTAL_REQUESTS', LongType(), nullable=True), StructField('SUM_8_HRS', LongType(), nullable=True)])\n",
      "Row count of the actual_df and expected_df match\n",
      "Dataframes are equivalent!\n"
     ]
    }
   ],
   "source": [
    "def test_busiest_hours():\n",
    "    output_df = busiest_hours(cleaned_uber)\n",
    "    \n",
    "    output_df.show()\n",
    "    print(output_df.schema)\n",
    "    # Define expected output data\n",
    "    expected_data=output3_df\n",
    "#         .select(trunc(col(\"Weighted_average\"), lit(2)).alias('Weighted_average'))\n",
    "    expected_data.show() \n",
    "    print(expected_data.schema)\n",
    "    if compare_row_count(output_df, expected_data):\n",
    "        print(\"Row count of the actual_df and expected_df match\")\n",
    "    else:\n",
    "        print(\"Row count of the actual_df and expected_df do not match\")\n",
    "        return False\n",
    "    if compare_dataframes(output_df, expected_data):\n",
    "        print(\"Dataframes are equivalent!\")\n",
    "    else:\n",
    "        print(\"Dataframes are not equivalent\")\n",
    "test_busiest_hours() "
   ]
  },
  {
   "cell_type": "markdown",
   "metadata": {
    "application/vnd.databricks.v1+cell": {
     "cellMetadata": {},
     "inputWidgets": {},
     "nuid": "d86c345f-8816-4c51-95f0-b20e115306df",
     "showTitle": false,
     "title": ""
    }
   },
   "source": [
    "The below function test the zeroes_to_eyeballs_ratio function with sample data file(test data ) and the expected output is in the Output4.csv file that is present in the filestore . The function calls the compare_dataframe function defined above and compares if the actual and expected output match"
   ]
  },
  {
   "cell_type": "code",
   "execution_count": 53,
   "metadata": {},
   "outputs": [
    {
     "name": "stdout",
     "output_type": "stream",
     "text": [
      "-----------------------------------------------\n",
      "|\"PERIOD\"  |\"ZEROES\"  |\"EYEBALLS\"  |\"RATIO\"   |\n",
      "-----------------------------------------------\n",
      "|0         |353       |1520        |0.232237  |\n",
      "-----------------------------------------------\n",
      "\n"
     ]
    }
   ],
   "source": [
    "output4_df = session.sql('select * from output4')\n",
    "output4_df.show()"
   ]
  },
  {
   "cell_type": "code",
   "execution_count": 54,
   "metadata": {
    "application/vnd.databricks.v1+cell": {
     "cellMetadata": {},
     "inputWidgets": {},
     "nuid": "b7858cbc-eafa-4081-97bd-727284950b6c",
     "showTitle": false,
     "title": ""
    }
   },
   "outputs": [
    {
     "name": "stdout",
     "output_type": "stream",
     "text": [
      "-----------------------------------------------\n",
      "|\"PERIOD\"  |\"ZEROES\"  |\"EYEBALLS\"  |\"RATIO\"   |\n",
      "-----------------------------------------------\n",
      "|0         |353       |1520        |0.232237  |\n",
      "-----------------------------------------------\n",
      "\n",
      "-----------------------------------------------\n",
      "|\"PERIOD\"  |\"ZEROES\"  |\"EYEBALLS\"  |\"RATIO\"   |\n",
      "-----------------------------------------------\n",
      "|0         |353       |1520        |0.232237  |\n",
      "-----------------------------------------------\n",
      "\n",
      "Row count of the actual_df and expected_df match\n",
      "Schema of the actual_df and expected_df match\n",
      "Dataframes are equivalent!\n"
     ]
    }
   ],
   "source": [
    "def test_zeroes_to_eyeballs_ratio():\n",
    "    output4 = zeroes_to_eyeballs_ratio(cleaned_uber)\n",
    "#     output4.show()\n",
    "    output_df = output4.withColumn(\"RATIO\",output4.RATIO.cast(DoubleType()))\n",
    "    output_df.show()\n",
    "    expected_data =output4_df\n",
    "    expected_data.show()\n",
    "    if compare_row_count(output_df, expected_data):\n",
    "        print(\"Row count of the actual_df and expected_df match\")\n",
    "    else:\n",
    "        print(\"Row count of the actual_df and expected_df do not match\")\n",
    "        return False\n",
    "    if compare_schema(output_df, expected_data):\n",
    "        print(\"Schema of the actual_df and expected_df match\")\n",
    "    else:\n",
    "        print(\"Schema of the actual_df and expected_df do not match\")\n",
    "        return False\n",
    "    if compare_dataframes(output_df, expected_data):\n",
    "        print(\"Dataframes are equivalent!\")\n",
    "    else:\n",
    "        print(\"Dataframes are not equivalent\")\n",
    "test_zeroes_to_eyeballs_ratio() "
   ]
  },
  {
   "cell_type": "markdown",
   "metadata": {
    "application/vnd.databricks.v1+cell": {
     "cellMetadata": {},
     "inputWidgets": {},
     "nuid": "581c1fdc-b493-4937-9479-5359b25f955d",
     "showTitle": false,
     "title": ""
    }
   },
   "source": [
    "The below function test the requests_per_driver function with sample data file(test data ) and the expected output is in the Output5.csv file that is present in the filestore . The function calls the compare_dataframe function defined above and compares if the actual and expected output match"
   ]
  },
  {
   "cell_type": "code",
   "execution_count": 55,
   "metadata": {},
   "outputs": [
    {
     "name": "stdout",
     "output_type": "stream",
     "text": [
      "----------------------------------\n",
      "|\"TIME\"  |\"REQUESTS_PER_DRIVER\"  |\n",
      "----------------------------------\n",
      "|23      |23.5                   |\n",
      "----------------------------------\n",
      "\n"
     ]
    }
   ],
   "source": [
    "output5_df = session.sql('select * from output5')\n",
    "output5_df.show()"
   ]
  },
  {
   "cell_type": "code",
   "execution_count": 56,
   "metadata": {
    "application/vnd.databricks.v1+cell": {
     "cellMetadata": {},
     "inputWidgets": {},
     "nuid": "d41de30f-c02b-491d-9325-69ce2632ca2c",
     "showTitle": false,
     "title": ""
    }
   },
   "outputs": [
    {
     "name": "stdout",
     "output_type": "stream",
     "text": [
      "----------------------------------\n",
      "|\"TIME\"  |\"REQUESTS_PER_DRIVER\"  |\n",
      "----------------------------------\n",
      "|23      |23.5                   |\n",
      "----------------------------------\n",
      "\n",
      "Row count of the actual_df and expected_df match\n",
      "Schema of the actual_df and expected_df match\n",
      "Dataframes are equivalent!\n"
     ]
    }
   ],
   "source": [
    "def test_requests_per_driver():\n",
    "    output5 = requests_per_driver(cleaned_uber)\n",
    "#     output5.show()\n",
    "    output_df = output5.withColumn(\"REQUESTS_PER_DRIVER\",output5.REQUESTS_PER_DRIVER.cast(DoubleType()))\n",
    "    output_df.show()\n",
    "    # Define expected output data\n",
    "    \n",
    "    expected_data = output5_df\n",
    "    if compare_row_count(output_df, expected_data):\n",
    "        print(\"Row count of the actual_df and expected_df match\")\n",
    "    else:\n",
    "        print(\"Row count of the actual_df and expected_df do not match\")\n",
    "        return False\n",
    "    if compare_schema(output_df, expected_data):\n",
    "        print(\"Schema of the actual_df and expected_df match\")\n",
    "    else:\n",
    "        print(\"Schema of the actual_df and expected_df do not match\")\n",
    "        return False\n",
    "    if compare_dataframes(output_df, expected_data):\n",
    "        print(\"Dataframes are equivalent!\")\n",
    "    else:\n",
    "        print(\"Dataframes are not equivalent\")\n",
    "test_requests_per_driver() "
   ]
  },
  {
   "cell_type": "markdown",
   "metadata": {
    "application/vnd.databricks.v1+cell": {
     "cellMetadata": {},
     "inputWidgets": {},
     "nuid": "c3e909c6-7ccd-4438-b33f-449e137761aa",
     "showTitle": false,
     "title": ""
    }
   },
   "source": [
    "The below function test the true_end_day function with sample data file(test data ) and the expected output is in the Output6.csv file that is present in the filestore . The function calls the compare_dataframe function defined above and compares if the actual and expected output match"
   ]
  },
  {
   "cell_type": "code",
   "execution_count": 57,
   "metadata": {},
   "outputs": [
    {
     "name": "stdout",
     "output_type": "stream",
     "text": [
      "--------------------------------------------------\n",
      "|\"TIME\"  |\"AVG_REQUESTS\"  |\"AVG_UNIQUE_DRIVERS\"  |\n",
      "--------------------------------------------------\n",
      "|9       |0.5             |6                     |\n",
      "--------------------------------------------------\n",
      "\n"
     ]
    }
   ],
   "source": [
    "output6_df = session.sql('select * from output6')\n",
    "output6_df.show()"
   ]
  },
  {
   "cell_type": "code",
   "execution_count": 58,
   "metadata": {
    "application/vnd.databricks.v1+cell": {
     "cellMetadata": {},
     "inputWidgets": {},
     "nuid": "cdef8a08-9433-4441-a08d-2415eda0b3a4",
     "showTitle": false,
     "title": ""
    }
   },
   "outputs": [
    {
     "name": "stdout",
     "output_type": "stream",
     "text": [
      "--------------------------------------------------\n",
      "|\"TIME\"  |\"AVG_REQUESTS\"  |\"AVG_UNIQUE_DRIVERS\"  |\n",
      "--------------------------------------------------\n",
      "|9       |0.5             |6                     |\n",
      "--------------------------------------------------\n",
      "\n",
      "--------------------------------------------------\n",
      "|\"TIME\"  |\"AVG_REQUESTS\"  |\"AVG_UNIQUE_DRIVERS\"  |\n",
      "--------------------------------------------------\n",
      "|9       |0.5             |6                     |\n",
      "--------------------------------------------------\n",
      "\n",
      "Row count of the actual_df and expected_df match\n",
      "Schema of the actual_df and expected_df match\n",
      "Dataframes are equivalent!\n"
     ]
    }
   ],
   "source": [
    "def test_true_end_day():\n",
    "    output6 = true_end_day(cleaned_uber)\n",
    "    output_df = output6.withColumn(\"AVG_REQUESTS\",output6.AVG_REQUESTS.cast(DoubleType()))\n",
    "    output_df = output_df.withColumn(\"AVG_UNIQUE_DRIVERS\", output6_df.AVG_UNIQUE_DRIVERS.cast(LongType()))\n",
    "    output_df.show()\n",
    "    # Define expected output data\n",
    "\n",
    "    expected_data = output6_df\n",
    "    expected_data.show()\n",
    "    if compare_row_count(output_df, expected_data):\n",
    "        print(\"Row count of the actual_df and expected_df match\")\n",
    "    else:\n",
    "        print(\"Row count of the actual_df and expected_df do not match\")\n",
    "        return False\n",
    "    if compare_schema(output_df, expected_data):\n",
    "        print(\"Schema of the actual_df and expected_df match\")\n",
    "    else:\n",
    "        print(\"Schema of the actual_df and expected_df do not match\")\n",
    "        return False\n",
    "    if compare_dataframes(output_df, expected_data):\n",
    "        print(\"Dataframes are equivalent!\")\n",
    "    else:\n",
    "        print(\"Dataframes are not equivalent\")\n",
    "test_true_end_day() "
   ]
  }
 ],
 "metadata": {
  "application/vnd.databricks.v1+notebook": {
   "dashboards": [],
   "language": "python",
   "notebookMetadata": {
    "pythonIndentUnit": 4
   },
   "notebookName": "quickstart_testing_v2",
   "notebookOrigID": 94611597905120,
   "widgets": {}
  },
  "kernelspec": {
   "display_name": "pysnowpark_ml1",
   "language": "python",
   "name": "pysnowpark_ml1"
  },
  "language_info": {
   "codemirror_mode": {
    "name": "ipython",
    "version": 3
   },
   "file_extension": ".py",
   "mimetype": "text/x-python",
   "name": "python",
   "nbconvert_exporter": "python",
   "pygments_lexer": "ipython3",
   "version": "3.8.15"
  }
 },
 "nbformat": 4,
 "nbformat_minor": 1
}
